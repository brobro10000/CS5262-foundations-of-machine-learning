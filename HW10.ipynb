{
  "nbformat": 4,
  "nbformat_minor": 0,
  "metadata": {
    "kernelspec": {
      "name": "python3",
      "display_name": "Python 3"
    },
    "colab": {
      "provenance": [],
      "machine_shape": "hm",
      "gpuType": "A100",
      "include_colab_link": true
    },
    "accelerator": "GPU"
  },
  "cells": [
    {
      "cell_type": "markdown",
      "metadata": {
        "id": "view-in-github",
        "colab_type": "text"
      },
      "source": [
        "<a href=\"https://colab.research.google.com/github/brobro10000/CS5262-foundations-of-machine-learning/blob/main/HW10.ipynb\" target=\"_parent\"><img src=\"https://colab.research.google.com/assets/colab-badge.svg\" alt=\"Open In Colab\"/></a>"
      ]
    },
    {
      "cell_type": "markdown",
      "metadata": {
        "id": "yeIXFfAumNWV"
      },
      "source": [
        "# Neural Network In Pytorch\n",
        "This assignment aims to get familiarized with building the whole pipeline of deep learning in Pytorch to perform classification and test it out on the CIFAR-10 dataset. All the code will be implemented in this notebook."
      ]
    },
    {
      "cell_type": "code",
      "metadata": {
        "id": "_BD5dqNGm1b6",
        "ExecuteTime": {
          "end_time": "2025-04-19T16:55:01.683519Z",
          "start_time": "2025-04-19T16:55:01.680519Z"
        },
        "colab": {
          "base_uri": "https://localhost:8080/"
        },
        "outputId": "e8a3711d-6410-40ea-e396-a22cc0950250"
      },
      "source": [
        "from google.colab import drive\n",
        "drive.mount('/content/gdrive')"
      ],
      "outputs": [
        {
          "output_type": "stream",
          "name": "stdout",
          "text": [
            "Drive already mounted at /content/gdrive; to attempt to forcibly remount, call drive.mount(\"/content/gdrive\", force_remount=True).\n"
          ]
        }
      ],
      "execution_count": 66
    },
    {
      "cell_type": "code",
      "metadata": {
        "id": "J3HggVCdm8iV",
        "ExecuteTime": {
          "end_time": "2025-04-19T16:55:01.742521Z",
          "start_time": "2025-04-19T16:55:01.737522Z"
        },
        "colab": {
          "base_uri": "https://localhost:8080/"
        },
        "outputId": "df352821-05b4-427d-cda7-d72896ce3fbc"
      },
      "source": [
        "%cd gdrive/MyDrive/Colab\\ Notebooks/hw10"
      ],
      "outputs": [
        {
          "output_type": "stream",
          "name": "stdout",
          "text": [
            "[Errno 2] No such file or directory: 'gdrive/MyDrive/Colab Notebooks/hw10'\n",
            "/content/gdrive/MyDrive/Colab Notebooks/hw10\n"
          ]
        }
      ],
      "execution_count": 67
    },
    {
      "cell_type": "markdown",
      "metadata": {
        "id": "soWnE8qOuQwg"
      },
      "source": [
        "First, let's install modules not already installed by Google Colab."
      ]
    },
    {
      "cell_type": "code",
      "metadata": {
        "id": "75XndHcNuL0r",
        "ExecuteTime": {
          "end_time": "2025-04-19T16:55:50.678650Z",
          "start_time": "2025-04-19T16:55:49.485626Z"
        },
        "colab": {
          "base_uri": "https://localhost:8080/"
        },
        "outputId": "686c7a0d-b39e-4105-8026-b39c091df603"
      },
      "source": [
        "!pip install torch_utils"
      ],
      "outputs": [
        {
          "output_type": "stream",
          "name": "stdout",
          "text": [
            "Requirement already satisfied: torch_utils in /usr/local/lib/python3.11/dist-packages (0.1.2)\n",
            "Requirement already satisfied: torch in /usr/local/lib/python3.11/dist-packages (from torch_utils) (2.6.0+cu124)\n",
            "Requirement already satisfied: filelock in /usr/local/lib/python3.11/dist-packages (from torch->torch_utils) (3.18.0)\n",
            "Requirement already satisfied: typing-extensions>=4.10.0 in /usr/local/lib/python3.11/dist-packages (from torch->torch_utils) (4.13.2)\n",
            "Requirement already satisfied: networkx in /usr/local/lib/python3.11/dist-packages (from torch->torch_utils) (3.4.2)\n",
            "Requirement already satisfied: jinja2 in /usr/local/lib/python3.11/dist-packages (from torch->torch_utils) (3.1.6)\n",
            "Requirement already satisfied: fsspec in /usr/local/lib/python3.11/dist-packages (from torch->torch_utils) (2025.3.2)\n",
            "Requirement already satisfied: nvidia-cuda-nvrtc-cu12==12.4.127 in /usr/local/lib/python3.11/dist-packages (from torch->torch_utils) (12.4.127)\n",
            "Requirement already satisfied: nvidia-cuda-runtime-cu12==12.4.127 in /usr/local/lib/python3.11/dist-packages (from torch->torch_utils) (12.4.127)\n",
            "Requirement already satisfied: nvidia-cuda-cupti-cu12==12.4.127 in /usr/local/lib/python3.11/dist-packages (from torch->torch_utils) (12.4.127)\n",
            "Requirement already satisfied: nvidia-cudnn-cu12==9.1.0.70 in /usr/local/lib/python3.11/dist-packages (from torch->torch_utils) (9.1.0.70)\n",
            "Requirement already satisfied: nvidia-cublas-cu12==12.4.5.8 in /usr/local/lib/python3.11/dist-packages (from torch->torch_utils) (12.4.5.8)\n",
            "Requirement already satisfied: nvidia-cufft-cu12==11.2.1.3 in /usr/local/lib/python3.11/dist-packages (from torch->torch_utils) (11.2.1.3)\n",
            "Requirement already satisfied: nvidia-curand-cu12==10.3.5.147 in /usr/local/lib/python3.11/dist-packages (from torch->torch_utils) (10.3.5.147)\n",
            "Requirement already satisfied: nvidia-cusolver-cu12==11.6.1.9 in /usr/local/lib/python3.11/dist-packages (from torch->torch_utils) (11.6.1.9)\n",
            "Requirement already satisfied: nvidia-cusparse-cu12==12.3.1.170 in /usr/local/lib/python3.11/dist-packages (from torch->torch_utils) (12.3.1.170)\n",
            "Requirement already satisfied: nvidia-cusparselt-cu12==0.6.2 in /usr/local/lib/python3.11/dist-packages (from torch->torch_utils) (0.6.2)\n",
            "Requirement already satisfied: nvidia-nccl-cu12==2.21.5 in /usr/local/lib/python3.11/dist-packages (from torch->torch_utils) (2.21.5)\n",
            "Requirement already satisfied: nvidia-nvtx-cu12==12.4.127 in /usr/local/lib/python3.11/dist-packages (from torch->torch_utils) (12.4.127)\n",
            "Requirement already satisfied: nvidia-nvjitlink-cu12==12.4.127 in /usr/local/lib/python3.11/dist-packages (from torch->torch_utils) (12.4.127)\n",
            "Requirement already satisfied: triton==3.2.0 in /usr/local/lib/python3.11/dist-packages (from torch->torch_utils) (3.2.0)\n",
            "Requirement already satisfied: sympy==1.13.1 in /usr/local/lib/python3.11/dist-packages (from torch->torch_utils) (1.13.1)\n",
            "Requirement already satisfied: mpmath<1.4,>=1.1.0 in /usr/local/lib/python3.11/dist-packages (from sympy==1.13.1->torch->torch_utils) (1.3.0)\n",
            "Requirement already satisfied: MarkupSafe>=2.0 in /usr/local/lib/python3.11/dist-packages (from jinja2->torch->torch_utils) (3.0.2)\n"
          ]
        }
      ],
      "execution_count": 68
    },
    {
      "cell_type": "markdown",
      "metadata": {
        "id": "Mzuptv--6uXv"
      },
      "source": [
        "## Task 1: Design the Neural Network and Data Preparation\n"
      ]
    },
    {
      "cell_type": "markdown",
      "metadata": {
        "id": "kTcfx8MFFxRz"
      },
      "source": [
        "In the beginning, please import all the packages you need. We provide some packages here, which might be helpful when you build your code."
      ]
    },
    {
      "cell_type": "code",
      "metadata": {
        "id": "v4wg5xqcxNEi",
        "ExecuteTime": {
          "end_time": "2025-04-19T16:56:06.608018Z",
          "start_time": "2025-04-19T16:56:06.593021Z"
        }
      },
      "source": [
        "from IPython.core.interactiveshell import InteractiveShell\n",
        "InteractiveShell.ast_node_interactivity = \"all\"\n",
        "\n",
        "# import modules\n",
        "import pandas as pd\n",
        "import numpy as np\n",
        "import matplotlib.pyplot as plt\n",
        "import torch\n",
        "from torch import cuda\n",
        "import torch.nn as nn\n",
        "from torch.utils.data import TensorDataset, DataLoader, sampler\n",
        "import torch.nn.functional as F\n",
        "from torch_utils import AverageMeter\n",
        "import math\n",
        "import matplotlib.pyplot as plt\n",
        "from sklearn.metrics import mean_squared_error\n",
        "from numpy import inf\n",
        "\n",
        "\n",
        "from sklearn.model_selection import train_test_split\n",
        "import os\n",
        "from glob import glob\n",
        "from torchvision import transforms\n",
        "from torchvision import datasets\n",
        "from torchvision import models\n",
        "from torch import optim, cuda, Tensor\n",
        "import tqdm\n",
        "\n",
        "# Data science tools\n",
        "import numpy as np\n",
        "\n",
        "import os\n",
        "\n",
        "# Image manipulations\n",
        "from PIL import Image\n",
        "from timeit import default_timer as timer\n",
        "\n",
        "# Visualizations\n",
        "import matplotlib.pyplot as plt\n",
        "#plt.rcParams['font.size'] = 14\n",
        "\n",
        "import warnings\n",
        "warnings.filterwarnings('ignore', category=FutureWarning)"
      ],
      "outputs": [],
      "execution_count": 69
    },
    {
      "cell_type": "markdown",
      "metadata": {
        "id": "NPX2j9gCHFOW"
      },
      "source": [
        "###Network Design\n",
        "Then, we need to define a class for your network. The network should include two linear layer, one Relu layer, and one dropout layer."
      ]
    },
    {
      "cell_type": "code",
      "metadata": {
        "id": "xDl90_EICBFp"
      },
      "source": [
        "# define model\n",
        "class bmodel(nn.Module):\n",
        "    def __init__(self, input_d, hidden_d, output_d):\n",
        "        super().__init__()\n",
        "        # Define all the layers that you need in your network\n",
        "        # You can use nn.Linear() to define the linear layer\n",
        "        # You can use nn.Dropout() to define the dropout layer\n",
        "        # You can use F.relu() to define your ReLu layer\n",
        "        ######################\n",
        "        ### YOUR CODE HERE ###\n",
        "        ######################\n",
        "        self.fc1 = nn.Linear(input_d, hidden_d)\n",
        "        self.fc2 = nn.Linear(hidden_d, output_d)\n",
        "        self.dropout = nn.Dropout(0.2)\n",
        "        self.relu = nn.ReLU()\n",
        "        #####################\n",
        "        ### YOUR CODE END ###\n",
        "        #####################\n",
        "\n",
        "    def forward(self, x):\n",
        "        # Design your network structure here\n",
        "        ######################\n",
        "        ### YOUR CODE HERE ###\n",
        "        ######################\n",
        "        x = self.fc1(x)\n",
        "        x = self.relu(x)\n",
        "        x = self.dropout(x)\n",
        "        x = self.fc2(x)\n",
        "        return x\n",
        "        #####################\n",
        "        ### YOUR CODE END ###\n",
        "        #####################"
      ],
      "execution_count": 70,
      "outputs": []
    },
    {
      "cell_type": "markdown",
      "metadata": {
        "id": "IZiqsgPSH24o"
      },
      "source": [
        "Now, we can design our toy model to test your network."
      ]
    },
    {
      "cell_type": "code",
      "metadata": {
        "collapsed": true,
        "id": "UqhzirmamNWj"
      },
      "source": [
        "# Create a small net and some toy data to check your implementations.\n",
        "# Note that we set the random seed for repeatable experiments.\n",
        "\n",
        "input_size = 4\n",
        "hidden_size = 10\n",
        "num_classes = 3\n",
        "num_inputs = 5\n",
        "\n",
        "def init_toy_model():\n",
        "    np.random.seed(0)\n",
        "    return bmodel(input_size, hidden_size, num_classes)\n",
        "\n",
        "def init_toy_data():\n",
        "    np.random.seed(1)\n",
        "    X = 10 * np.random.randn(num_inputs, input_size)\n",
        "    y = np.array([0, 1, 2, 2, 1])\n",
        "    return X, y\n",
        "\n",
        "toy_model = init_toy_model()\n",
        "train_X, train_Y = init_toy_data()\n",
        "validation_X, validation_Y = init_toy_data()"
      ],
      "execution_count": 71,
      "outputs": []
    },
    {
      "cell_type": "markdown",
      "metadata": {
        "id": "clIyJmUFJg0H"
      },
      "source": [
        "Cuda is Compute Unified Device Architecture, which can achieve parallel computing. It will improve our learning speed in the parameter update by using GPU rather than CPU."
      ]
    },
    {
      "cell_type": "code",
      "metadata": {
        "id": "qNhcttlxJSOk",
        "colab": {
          "base_uri": "https://localhost:8080/"
        },
        "outputId": "9601e1a7-6eee-49af-a6af-d02481777e5a"
      },
      "source": [
        "# Check whether there is a gpu for cuda\n",
        "train_on_gpu = cuda.is_available()\n",
        "print(f'Train on gpu: {train_on_gpu}')\n",
        "\n",
        "# Number of gpus\n",
        "if train_on_gpu:\n",
        "    gpu_count = cuda.device_count()\n",
        "    print(f'{gpu_count} gpus detected.')\n",
        "    if gpu_count > 1:\n",
        "        multi_gpu = True\n",
        "    else:\n",
        "        multi_gpu = False\n",
        "else:\n",
        "    multi_gpu = False\n",
        "print(train_on_gpu,multi_gpu)"
      ],
      "execution_count": 72,
      "outputs": [
        {
          "output_type": "stream",
          "name": "stdout",
          "text": [
            "Train on gpu: True\n",
            "1 gpus detected.\n",
            "True False\n"
          ]
        }
      ]
    },
    {
      "cell_type": "markdown",
      "metadata": {
        "id": "jFXQ5rioKcOP"
      },
      "source": [
        "###Data Preparation\n",
        "Next, we need to organize the data before we load them into the network. In Pytorch, we use Tensor as the data structure for computing, and we use \"dataloaders\" to achieve mini-batch from the whole dataset."
      ]
    },
    {
      "cell_type": "code",
      "metadata": {
        "id": "kOcdfL03KVL6",
        "colab": {
          "base_uri": "https://localhost:8080/"
        },
        "outputId": "d70a5ffe-610d-4885-a5e3-451205a69746"
      },
      "source": [
        "# Datasets organization\n",
        "batch_size = 1\n",
        "\n",
        "# Transfer the data from numpy to tensor\n",
        "data = {\n",
        "    'train':\n",
        "    TensorDataset(torch.from_numpy(train_X), torch.from_numpy(train_Y).float()),\n",
        "    'valid':\n",
        "    # please define your validation dataset\n",
        "    ######################\n",
        "    ### YOUR CODE HERE ###\n",
        "    ######################\n",
        "    TensorDataset(torch.from_numpy(validation_X), torch.from_numpy(validation_Y).float())\n",
        "    #####################\n",
        "    ### YOUR CODE END ###\n",
        "    #####################\n",
        "\n",
        "}\n",
        "\n",
        "\n",
        "# Dataloader iterators, make sure to shuffle\n",
        "dataloaders = {\n",
        "    'train': DataLoader(data['train'], batch_size=batch_size, shuffle=True,num_workers=10),\n",
        "    'valid':\n",
        "    # please define your validation data loader\n",
        "    ######################\n",
        "    ### YOUR CODE HERE ###\n",
        "    ######################\n",
        "    DataLoader(data['valid'], batch_size=batch_size, shuffle=True,num_workers=10)\n",
        "    ######################\n",
        "    ### YOUR CODE END ####\n",
        "    ######################\n",
        "}\n",
        "\n",
        "\n",
        "\n",
        "# Iterate through the dataloader once\n",
        "trainiter = iter(dataloaders['train'])\n",
        "features, labels = next(trainiter)\n",
        "features.shape, labels.shape\n"
      ],
      "execution_count": 73,
      "outputs": [
        {
          "output_type": "execute_result",
          "data": {
            "text/plain": [
              "(torch.Size([1, 4]), torch.Size([1]))"
            ]
          },
          "metadata": {},
          "execution_count": 73
        }
      ]
    },
    {
      "cell_type": "markdown",
      "metadata": {
        "id": "JPQQ7iRaNgIp"
      },
      "source": [
        "### Setting Learning Parameters\n",
        "In our training process, we need to set up the loss function and optimizer tool."
      ]
    },
    {
      "cell_type": "code",
      "metadata": {
        "id": "Y6PbdfxENdOJ",
        "colab": {
          "base_uri": "https://localhost:8080/"
        },
        "outputId": "25997777-46e8-4766-a3d1-69154269a265"
      },
      "source": [
        "# Set up your criterion and optimizer\n",
        "# You can use nn.CrossEntropyLoss() and optim.Adam()\n",
        "#####################\n",
        "### YOUR CODE HERE###\n",
        "#####################\n",
        "criterion = nn.CrossEntropyLoss()\n",
        "# We only pass parameters that require a gradient\n",
        "optimizer = optim.Adam(\n",
        "    filter(lambda p: p.requires_grad, toy_model.parameters()),\n",
        "    lr=0.001\n",
        ")\n",
        "####################\n",
        "### YOUR CODE END###\n",
        "####################\n",
        "\n",
        "for p in optimizer.param_groups[0]['params']:\n",
        "    if p.requires_grad:\n",
        "        print(p.shape)"
      ],
      "execution_count": 74,
      "outputs": [
        {
          "output_type": "stream",
          "name": "stdout",
          "text": [
            "torch.Size([10, 4])\n",
            "torch.Size([10])\n",
            "torch.Size([3, 10])\n",
            "torch.Size([3])\n"
          ]
        }
      ]
    },
    {
      "cell_type": "markdown",
      "metadata": {
        "id": "Ck08UYlKcGtk"
      },
      "source": [
        "## Task 2: Build the Training Pipeline"
      ]
    },
    {
      "cell_type": "markdown",
      "metadata": {
        "id": "f5ep_QqOOiNn"
      },
      "source": [
        "### Training Process\n",
        "We are now defining the train function. Please follow the instruction to finish each part."
      ]
    },
    {
      "cell_type": "code",
      "metadata": {
        "id": "vw16i2tlOcbt"
      },
      "source": [
        "def train(model,\n",
        "          criterion,\n",
        "          optimizer,\n",
        "          train_loader,\n",
        "          valid_loader,\n",
        "          save_file_name,\n",
        "          max_epochs_stop=3,\n",
        "          n_epochs=10,\n",
        "          print_every=1):\n",
        "    \"\"\"Train a PyTorch Model\n",
        "\n",
        "    Params\n",
        "    --------\n",
        "        model (PyTorch model): cnn to train\n",
        "        criterion (PyTorch loss): objective to minimize\n",
        "        optimizer (PyTorch optimizier): optimizer to compute gradients of model parameters\n",
        "        train_loader (PyTorch dataloader): training dataloader to iterate through\n",
        "        valid_loader (PyTorch dataloader): validation dataloader used for early stopping\n",
        "        save_file_name (str ending in '.pt'): file path to save the model state dict\n",
        "        max_epochs_stop (int): maximum number of epochs with no improvement in validation loss for early stopping\n",
        "        n_epochs (int): maximum number of training epochs\n",
        "        print_every (int): frequency of epochs to print training stats\n",
        "\n",
        "    Returns\n",
        "    --------\n",
        "        model (PyTorch model): trained cnn with best weights\n",
        "        history (DataFrame): history of train and validation loss and accuracy\n",
        "    \"\"\"\n",
        "\n",
        "    # Early stopping intialization\n",
        "    epochs_no_improve = 0\n",
        "    valid_loss_min = np.inf\n",
        "\n",
        "    valid_max_acc = 0\n",
        "    history = []\n",
        "\n",
        "    # Number of epochs already trained (if using loaded in model weights)\n",
        "    try:\n",
        "        print(f'Model has been trained for: {model.epochs} epochs.\\n')\n",
        "    except:\n",
        "        model.epochs = 0\n",
        "        print(f'Starting Training from Scratch.\\n')\n",
        "\n",
        "    overall_start = timer()\n",
        "\n",
        "    # Main loop\n",
        "    for epoch in range(n_epochs):\n",
        "\n",
        "        # keep track of training and validation loss each epoch\n",
        "        train_loss = 0.0\n",
        "        valid_loss = 0.0\n",
        "\n",
        "        train_acc = 0\n",
        "        valid_acc = 0\n",
        "\n",
        "        # Set to training\n",
        "        model.train()\n",
        "\n",
        "        start = timer()\n",
        "\n",
        "        # Training loop\n",
        "        for ii, (data, target) in enumerate(train_loader):\n",
        "            # Tensors to gpu, both model parameters, data, and target need to be tensors.\n",
        "            # You can use .cuda() function\n",
        "            ######################\n",
        "            ### YOUR CODE HERE ###\n",
        "            ######################\n",
        "            # Move data and model to GPU with correct dtype\n",
        "            data = data.cuda().float()\n",
        "            target = target.cuda().long()\n",
        "            model = model.cuda()\n",
        "\n",
        "            #####################\n",
        "            ### YOUR CODE END ###\n",
        "            #####################\n",
        "\n",
        "            # Clear gradients\n",
        "            optimizer.zero_grad()\n",
        "\n",
        "            # Forward path\n",
        "            ######################\n",
        "            ### YOUR CODE HERE ###\n",
        "            ######################\n",
        "            output = model(data)\n",
        "            #####################\n",
        "            ### YOUR CODE END ###\n",
        "            #####################\n",
        "\n",
        "            # Loss function\n",
        "            ######################\n",
        "            ### YOUR CODE HERE ###\n",
        "            ######################\n",
        "            loss = criterion(output, target)\n",
        "            #####################\n",
        "            ### YOUR CODE END ###\n",
        "            #####################\n",
        "\n",
        "            # Backward path (backpropagation)\n",
        "            ######################\n",
        "            ### YOUR CODE HERE ###\n",
        "            ######################\n",
        "            loss.backward()\n",
        "            #####################\n",
        "            ### YOUR CODE END ###\n",
        "            #####################\n",
        "\n",
        "            # Update the parameters\n",
        "            optimizer.step()\n",
        "\n",
        "            # Track train loss by multiplying average loss by number of examples in batch\n",
        "            train_loss += loss.item() * data.size(0)\n",
        "\n",
        "            # Calculate accuracy by finding max log probability\n",
        "            _, pred = torch.max(output, dim=1)\n",
        "            correct_tensor = pred.eq(target.data.view_as(pred))\n",
        "\n",
        "            # Need to convert correct tensor from int to float to average\n",
        "            accuracy = torch.mean(correct_tensor.type(torch.FloatTensor))\n",
        "\n",
        "            # Multiply average accuracy times the number of examples in batch\n",
        "            train_acc += accuracy.item() * data.size(0)\n",
        "\n",
        "            # Track training progress\n",
        "            print(\n",
        "                f'Epoch: {epoch}\\t{100 * (ii + 1) / len(train_loader):.2f}% complete. {timer() - start:.2f} seconds elapsed in epoch.',\n",
        "                end='\\r')\n",
        "\n",
        "        # After training loops ends, start validation\n",
        "        else:\n",
        "            model.epochs += 1\n",
        "\n",
        "            # Don't need to keep track of gradients\n",
        "            with torch.no_grad():\n",
        "\n",
        "                # Set to evaluation mode\n",
        "                model.eval()\n",
        "\n",
        "                # Validation loop\n",
        "                for data, target in valid_loader:\n",
        "                    # Tensors to gpu\n",
        "                    ######################\n",
        "                    ### YOUR CODE HERE ###\n",
        "                    ######################\n",
        "                    data = data.cuda().float()\n",
        "                    target = target.cuda().long()\n",
        "                    #####################\n",
        "                    ### YOUR CODE END ###\n",
        "                    #####################\n",
        "\n",
        "                    # Forward path\n",
        "                    ######################\n",
        "                    ### YOUR CODE HERE ###\n",
        "                    ######################\n",
        "                    output = model(data)\n",
        "                    #####################\n",
        "                    ### YOUR CODE END ###\n",
        "                    #####################\n",
        "\n",
        "                    # Validation loss computation\n",
        "                    ######################\n",
        "                    ### YOUR CODE HERE ###\n",
        "                    ######################\n",
        "                    loss = criterion(output, target)\n",
        "                    #####################\n",
        "                    ### YOUR CODE END ###\n",
        "                    #####################\n",
        "\n",
        "                    # Multiply average loss times the number of examples in batch\n",
        "                    valid_loss += loss.item() * data.size(0)\n",
        "\n",
        "                    # Calculate validation accuracy\n",
        "                    _, pred = torch.max(output, dim=1)\n",
        "                    correct_tensor = pred.eq(target.data.view_as(pred))\n",
        "                    accuracy = torch.mean(\n",
        "                    correct_tensor.type(torch.FloatTensor))\n",
        "\n",
        "                    # Multiply average accuracy times the number of examples\n",
        "                    valid_acc += accuracy.item() * data.size(0)\n",
        "\n",
        "\n",
        "                # Calculate average losses and Calculate average accuracy\n",
        "                train_loss = train_loss / len(train_loader.dataset)\n",
        "                valid_loss = valid_loss / len(valid_loader.dataset)\n",
        "\n",
        "                train_acc = train_acc / len(train_loader.dataset)\n",
        "                valid_acc = valid_acc / len(valid_loader.dataset)\n",
        "\n",
        "                history.append([train_loss, valid_loss, train_acc, valid_acc])\n",
        "\n",
        "                # Print training and validation results\n",
        "                if (epoch + 1) % print_every == 0:\n",
        "                    print(\n",
        "                        f'\\nEpoch: {epoch} \\tTraining Loss: {train_loss:.4f} \\tValidation Loss: {valid_loss:.4f}'\n",
        "                    )\n",
        "                    print(\n",
        "                        f'\\t\\tTraining Accuracy: {100 * train_acc:.2f}%\\t Validation Accuracy: {100 * valid_acc:.2f}%'\n",
        "                    )\n",
        "\n",
        "                # Save the model if validation loss decreases\n",
        "                if valid_loss < valid_loss_min:\n",
        "                    # Save model\n",
        "                    # You can use torch.save()\n",
        "                    ######################\n",
        "                    ### YOUR CODE HERE ###\n",
        "                    ######################\n",
        "                    torch.save(model.state_dict(), save_file_name)\n",
        "                    #####################\n",
        "                    ### YOUR CODE END ###\n",
        "                    #####################\n",
        "\n",
        "                    # Track improvement\n",
        "                    epochs_no_improve = 0\n",
        "                    valid_loss_min = valid_loss\n",
        "                    valid_best_acc = valid_acc\n",
        "                    best_epoch = epoch\n",
        "\n",
        "                # Otherwise increment count of epochs with no improvement\n",
        "                else:\n",
        "                    epochs_no_improve += 1\n",
        "                    # Trigger early stopping\n",
        "                    if epochs_no_improve >= max_epochs_stop:\n",
        "                        print(\n",
        "                            f'\\nEarly Stopping! Total epochs: {epoch}. Best epoch: {best_epoch} with loss: {valid_loss_min:.2f} and acc: {100 * valid_acc:.2f}%'\n",
        "                        )\n",
        "                        total_time = timer() - overall_start\n",
        "                        print(\n",
        "                            f'{total_time:.2f} total seconds elapsed. {total_time / (epoch+1):.2f} seconds per epoch.'\n",
        "                        )\n",
        "\n",
        "                        # Load the best state dict\n",
        "                        # You can use model.load_state_dict()\n",
        "                        ######################\n",
        "                        ### YOUR CODE HERE ###\n",
        "                        ######################\n",
        "                        model.load_state_dict(torch.load(save_file_name))\n",
        "                        #####################\n",
        "                        ### YOUR CODE END ###\n",
        "                        #####################\n",
        "\n",
        "                        # Attach the optimizer\n",
        "                        model.optimizer = optimizer\n",
        "\n",
        "                        # Format history\n",
        "                        history = pd.DataFrame(\n",
        "                            history,\n",
        "                            columns=[\n",
        "                                'train_loss', 'valid_loss', 'train_acc',\n",
        "                                'valid_acc'\n",
        "                            ])\n",
        "                        return model, history\n",
        "\n",
        "    # Attach the optimizer\n",
        "    model.optimizer = optimizer\n",
        "    # Record overall time and print out stats\n",
        "    total_time = timer() - overall_start\n",
        "    print(\n",
        "        f'\\nBest epoch: {best_epoch} with loss: {valid_loss_min:.2f} and acc: {100 * valid_best_acc:.2f}%'\n",
        "    )\n",
        "    print(\n",
        "        f'{total_time:.2f} total seconds elapsed. {total_time / (epoch+1):.2f} seconds per epoch.'\n",
        "    )\n",
        "    # Format history\n",
        "    history = pd.DataFrame(\n",
        "        history,\n",
        "        columns=['train_loss', 'valid_loss', 'train_acc', 'valid_acc'])\n",
        "    return model, history"
      ],
      "execution_count": 75,
      "outputs": []
    },
    {
      "cell_type": "markdown",
      "metadata": {
        "id": "H4ZuMIexG7oo"
      },
      "source": [
        "## Task 3: Train the network"
      ]
    },
    {
      "cell_type": "markdown",
      "metadata": {
        "id": "p_dFSRgzmNWr"
      },
      "source": [
        "### Train a Network With Toy Data\n"
      ]
    },
    {
      "cell_type": "markdown",
      "metadata": {
        "id": "AdRJcmzXReJT"
      },
      "source": [
        "Well done! Once we finish our train process design, we can start to train our network with our toy dataset."
      ]
    },
    {
      "cell_type": "code",
      "metadata": {
        "id": "LFI9SHsuReqs",
        "colab": {
          "base_uri": "https://localhost:8080/"
        },
        "outputId": "a17ebe8e-4fa1-4864-fbe6-5b34f9deee19"
      },
      "source": [
        "from timeit import default_timer as timer\n",
        "save_file_name = f'toy_model_best_model.pt'\n",
        "train_on_gpu = cuda.is_available()\n",
        "\n",
        "model, history = train(toy_model,\n",
        "    criterion,\n",
        "    optimizer,\n",
        "    dataloaders['train'],\n",
        "    dataloaders['valid'],\n",
        "    save_file_name=save_file_name,\n",
        "    max_epochs_stop=3,\n",
        "    n_epochs=500,\n",
        "    print_every=1)"
      ],
      "execution_count": 76,
      "outputs": [
        {
          "output_type": "stream",
          "name": "stdout",
          "text": [
            "Starting Training from Scratch.\n",
            "\n",
            "\n",
            "Epoch: 0 \tTraining Loss: 2.3901 \tValidation Loss: 1.6326\n",
            "\t\tTraining Accuracy: 20.00%\t Validation Accuracy: 20.00%\n",
            "\n",
            "Epoch: 1 \tTraining Loss: 1.8967 \tValidation Loss: 1.5380\n",
            "\t\tTraining Accuracy: 20.00%\t Validation Accuracy: 20.00%\n",
            "\n",
            "Epoch: 2 \tTraining Loss: 1.1377 \tValidation Loss: 1.4560\n",
            "\t\tTraining Accuracy: 60.00%\t Validation Accuracy: 20.00%\n",
            "\n",
            "Epoch: 3 \tTraining Loss: 1.5805 \tValidation Loss: 1.3816\n",
            "\t\tTraining Accuracy: 40.00%\t Validation Accuracy: 20.00%\n",
            "\n",
            "Epoch: 4 \tTraining Loss: 1.3989 \tValidation Loss: 1.3036\n",
            "\t\tTraining Accuracy: 40.00%\t Validation Accuracy: 20.00%\n",
            "\n",
            "Epoch: 5 \tTraining Loss: 0.9915 \tValidation Loss: 1.2376\n",
            "\t\tTraining Accuracy: 40.00%\t Validation Accuracy: 20.00%\n",
            "\n",
            "Epoch: 6 \tTraining Loss: 1.0727 \tValidation Loss: 1.1814\n",
            "\t\tTraining Accuracy: 40.00%\t Validation Accuracy: 20.00%\n",
            "\n",
            "Epoch: 7 \tTraining Loss: 1.1029 \tValidation Loss: 1.1198\n",
            "\t\tTraining Accuracy: 40.00%\t Validation Accuracy: 20.00%\n",
            "\n",
            "Epoch: 8 \tTraining Loss: 1.3701 \tValidation Loss: 1.0656\n",
            "\t\tTraining Accuracy: 60.00%\t Validation Accuracy: 20.00%\n",
            "\n",
            "Epoch: 9 \tTraining Loss: 1.4128 \tValidation Loss: 1.0197\n",
            "\t\tTraining Accuracy: 40.00%\t Validation Accuracy: 40.00%\n",
            "\n",
            "Epoch: 10 \tTraining Loss: 0.7426 \tValidation Loss: 0.9783\n",
            "\t\tTraining Accuracy: 40.00%\t Validation Accuracy: 40.00%\n",
            "\n",
            "Epoch: 11 \tTraining Loss: 1.8440 \tValidation Loss: 0.9340\n",
            "\t\tTraining Accuracy: 20.00%\t Validation Accuracy: 60.00%\n",
            "\n",
            "Epoch: 12 \tTraining Loss: 0.8398 \tValidation Loss: 0.8804\n",
            "\t\tTraining Accuracy: 60.00%\t Validation Accuracy: 60.00%\n",
            "\n",
            "Epoch: 13 \tTraining Loss: 0.8110 \tValidation Loss: 0.8381\n",
            "\t\tTraining Accuracy: 80.00%\t Validation Accuracy: 60.00%\n",
            "\n",
            "Epoch: 14 \tTraining Loss: 0.5753 \tValidation Loss: 0.8022\n",
            "\t\tTraining Accuracy: 60.00%\t Validation Accuracy: 60.00%\n",
            "\n",
            "Epoch: 15 \tTraining Loss: 1.0916 \tValidation Loss: 0.7698\n",
            "\t\tTraining Accuracy: 40.00%\t Validation Accuracy: 60.00%\n",
            "\n",
            "Epoch: 16 \tTraining Loss: 1.5960 \tValidation Loss: 0.7329\n",
            "\t\tTraining Accuracy: 40.00%\t Validation Accuracy: 60.00%\n",
            "\n",
            "Epoch: 17 \tTraining Loss: 0.8639 \tValidation Loss: 0.6973\n",
            "\t\tTraining Accuracy: 60.00%\t Validation Accuracy: 60.00%\n",
            "\n",
            "Epoch: 18 \tTraining Loss: 0.5380 \tValidation Loss: 0.6653\n",
            "\t\tTraining Accuracy: 80.00%\t Validation Accuracy: 60.00%\n",
            "\n",
            "Epoch: 19 \tTraining Loss: 0.5722 \tValidation Loss: 0.6358\n",
            "\t\tTraining Accuracy: 60.00%\t Validation Accuracy: 60.00%\n",
            "\n",
            "Epoch: 20 \tTraining Loss: 1.1634 \tValidation Loss: 0.5982\n",
            "\t\tTraining Accuracy: 60.00%\t Validation Accuracy: 60.00%\n",
            "\n",
            "Epoch: 21 \tTraining Loss: 0.8934 \tValidation Loss: 0.5633\n",
            "\t\tTraining Accuracy: 40.00%\t Validation Accuracy: 60.00%\n",
            "\n",
            "Epoch: 22 \tTraining Loss: 0.7207 \tValidation Loss: 0.5283\n",
            "\t\tTraining Accuracy: 40.00%\t Validation Accuracy: 60.00%\n",
            "\n",
            "Epoch: 23 \tTraining Loss: 0.4762 \tValidation Loss: 0.4986\n",
            "\t\tTraining Accuracy: 80.00%\t Validation Accuracy: 100.00%\n",
            "\n",
            "Epoch: 24 \tTraining Loss: 0.3598 \tValidation Loss: 0.4735\n",
            "\t\tTraining Accuracy: 100.00%\t Validation Accuracy: 100.00%\n",
            "\n",
            "Epoch: 25 \tTraining Loss: 0.6945 \tValidation Loss: 0.4479\n",
            "\t\tTraining Accuracy: 80.00%\t Validation Accuracy: 100.00%\n",
            "\n",
            "Epoch: 26 \tTraining Loss: 0.3743 \tValidation Loss: 0.4247\n",
            "\t\tTraining Accuracy: 100.00%\t Validation Accuracy: 100.00%\n",
            "\n",
            "Epoch: 27 \tTraining Loss: 0.6506 \tValidation Loss: 0.4025\n",
            "\t\tTraining Accuracy: 80.00%\t Validation Accuracy: 100.00%\n",
            "\n",
            "Epoch: 28 \tTraining Loss: 0.5324 \tValidation Loss: 0.3840\n",
            "\t\tTraining Accuracy: 80.00%\t Validation Accuracy: 100.00%\n",
            "\n",
            "Epoch: 29 \tTraining Loss: 0.3374 \tValidation Loss: 0.3669\n",
            "\t\tTraining Accuracy: 100.00%\t Validation Accuracy: 100.00%\n",
            "\n",
            "Epoch: 30 \tTraining Loss: 0.8651 \tValidation Loss: 0.3511\n",
            "\t\tTraining Accuracy: 60.00%\t Validation Accuracy: 100.00%\n",
            "\n",
            "Epoch: 31 \tTraining Loss: 0.4381 \tValidation Loss: 0.3372\n",
            "\t\tTraining Accuracy: 80.00%\t Validation Accuracy: 100.00%\n",
            "\n",
            "Epoch: 32 \tTraining Loss: 0.4739 \tValidation Loss: 0.3230\n",
            "\t\tTraining Accuracy: 80.00%\t Validation Accuracy: 100.00%\n",
            "\n",
            "Epoch: 33 \tTraining Loss: 1.2771 \tValidation Loss: 0.3074\n",
            "\t\tTraining Accuracy: 60.00%\t Validation Accuracy: 100.00%\n",
            "\n",
            "Epoch: 34 \tTraining Loss: 0.4917 \tValidation Loss: 0.2937\n",
            "\t\tTraining Accuracy: 80.00%\t Validation Accuracy: 100.00%\n",
            "\n",
            "Epoch: 35 \tTraining Loss: 0.8011 \tValidation Loss: 0.2810\n",
            "\t\tTraining Accuracy: 60.00%\t Validation Accuracy: 100.00%\n",
            "\n",
            "Epoch: 36 \tTraining Loss: 0.1982 \tValidation Loss: 0.2682\n",
            "\t\tTraining Accuracy: 100.00%\t Validation Accuracy: 100.00%\n",
            "\n",
            "Epoch: 37 \tTraining Loss: 0.3873 \tValidation Loss: 0.2579\n",
            "\t\tTraining Accuracy: 80.00%\t Validation Accuracy: 100.00%\n",
            "\n",
            "Epoch: 38 \tTraining Loss: 0.1578 \tValidation Loss: 0.2488\n",
            "\t\tTraining Accuracy: 100.00%\t Validation Accuracy: 100.00%\n",
            "\n",
            "Epoch: 39 \tTraining Loss: 0.8638 \tValidation Loss: 0.2399\n",
            "\t\tTraining Accuracy: 40.00%\t Validation Accuracy: 100.00%\n",
            "\n",
            "Epoch: 40 \tTraining Loss: 0.1698 \tValidation Loss: 0.2316\n",
            "\t\tTraining Accuracy: 100.00%\t Validation Accuracy: 100.00%\n",
            "\n",
            "Epoch: 41 \tTraining Loss: 0.1434 \tValidation Loss: 0.2236\n",
            "\t\tTraining Accuracy: 100.00%\t Validation Accuracy: 100.00%\n",
            "\n",
            "Epoch: 42 \tTraining Loss: 0.3407 \tValidation Loss: 0.2169\n",
            "\t\tTraining Accuracy: 80.00%\t Validation Accuracy: 100.00%\n",
            "\n",
            "Epoch: 43 \tTraining Loss: 0.1822 \tValidation Loss: 0.2094\n",
            "\t\tTraining Accuracy: 100.00%\t Validation Accuracy: 100.00%\n",
            "\n",
            "Epoch: 44 \tTraining Loss: 0.6460 \tValidation Loss: 0.2018\n",
            "\t\tTraining Accuracy: 60.00%\t Validation Accuracy: 100.00%\n",
            "\n",
            "Epoch: 45 \tTraining Loss: 0.1522 \tValidation Loss: 0.1953\n",
            "\t\tTraining Accuracy: 100.00%\t Validation Accuracy: 100.00%\n",
            "\n",
            "Epoch: 46 \tTraining Loss: 1.0265 \tValidation Loss: 0.1876\n",
            "\t\tTraining Accuracy: 60.00%\t Validation Accuracy: 100.00%\n",
            "\n",
            "Epoch: 47 \tTraining Loss: 0.7641 \tValidation Loss: 0.1816\n",
            "\t\tTraining Accuracy: 40.00%\t Validation Accuracy: 100.00%\n",
            "\n",
            "Epoch: 48 \tTraining Loss: 0.1704 \tValidation Loss: 0.1756\n",
            "\t\tTraining Accuracy: 100.00%\t Validation Accuracy: 100.00%\n",
            "\n",
            "Epoch: 49 \tTraining Loss: 0.5489 \tValidation Loss: 0.1711\n",
            "\t\tTraining Accuracy: 60.00%\t Validation Accuracy: 100.00%\n",
            "\n",
            "Epoch: 50 \tTraining Loss: 0.1840 \tValidation Loss: 0.1661\n",
            "\t\tTraining Accuracy: 100.00%\t Validation Accuracy: 100.00%\n",
            "\n",
            "Epoch: 51 \tTraining Loss: 0.0988 \tValidation Loss: 0.1615\n",
            "\t\tTraining Accuracy: 100.00%\t Validation Accuracy: 100.00%\n",
            "\n",
            "Epoch: 52 \tTraining Loss: 0.3189 \tValidation Loss: 0.1572\n",
            "\t\tTraining Accuracy: 80.00%\t Validation Accuracy: 100.00%\n",
            "\n",
            "Epoch: 53 \tTraining Loss: 0.2807 \tValidation Loss: 0.1528\n",
            "\t\tTraining Accuracy: 80.00%\t Validation Accuracy: 100.00%\n",
            "\n",
            "Epoch: 54 \tTraining Loss: 0.0942 \tValidation Loss: 0.1484\n",
            "\t\tTraining Accuracy: 100.00%\t Validation Accuracy: 100.00%\n",
            "\n",
            "Epoch: 55 \tTraining Loss: 0.3079 \tValidation Loss: 0.1444\n",
            "\t\tTraining Accuracy: 80.00%\t Validation Accuracy: 100.00%\n",
            "\n",
            "Epoch: 56 \tTraining Loss: 0.1044 \tValidation Loss: 0.1406\n",
            "\t\tTraining Accuracy: 100.00%\t Validation Accuracy: 100.00%\n",
            "\n",
            "Epoch: 57 \tTraining Loss: 0.2439 \tValidation Loss: 0.1367\n",
            "\t\tTraining Accuracy: 80.00%\t Validation Accuracy: 100.00%\n",
            "\n",
            "Epoch: 58 \tTraining Loss: 0.2441 \tValidation Loss: 0.1330\n",
            "\t\tTraining Accuracy: 80.00%\t Validation Accuracy: 100.00%\n",
            "\n",
            "Epoch: 59 \tTraining Loss: 0.1126 \tValidation Loss: 0.1296\n",
            "\t\tTraining Accuracy: 100.00%\t Validation Accuracy: 100.00%\n",
            "\n",
            "Epoch: 60 \tTraining Loss: 0.0896 \tValidation Loss: 0.1265\n",
            "\t\tTraining Accuracy: 100.00%\t Validation Accuracy: 100.00%\n",
            "\n",
            "Epoch: 61 \tTraining Loss: 0.1242 \tValidation Loss: 0.1232\n",
            "\t\tTraining Accuracy: 100.00%\t Validation Accuracy: 100.00%\n",
            "\n",
            "Epoch: 62 \tTraining Loss: 0.6369 \tValidation Loss: 0.1195\n",
            "\t\tTraining Accuracy: 60.00%\t Validation Accuracy: 100.00%\n",
            "\n",
            "Epoch: 63 \tTraining Loss: 0.0685 \tValidation Loss: 0.1164\n",
            "\t\tTraining Accuracy: 100.00%\t Validation Accuracy: 100.00%\n",
            "\n",
            "Epoch: 64 \tTraining Loss: 0.2670 \tValidation Loss: 0.1137\n",
            "\t\tTraining Accuracy: 80.00%\t Validation Accuracy: 100.00%\n",
            "\n",
            "Epoch: 65 \tTraining Loss: 0.2119 \tValidation Loss: 0.1110\n",
            "\t\tTraining Accuracy: 80.00%\t Validation Accuracy: 100.00%\n",
            "\n",
            "Epoch: 66 \tTraining Loss: 0.0937 \tValidation Loss: 0.1085\n",
            "\t\tTraining Accuracy: 100.00%\t Validation Accuracy: 100.00%\n",
            "\n",
            "Epoch: 67 \tTraining Loss: 0.1265 \tValidation Loss: 0.1057\n",
            "\t\tTraining Accuracy: 100.00%\t Validation Accuracy: 100.00%\n",
            "\n",
            "Epoch: 68 \tTraining Loss: 0.0614 \tValidation Loss: 0.1034\n",
            "\t\tTraining Accuracy: 100.00%\t Validation Accuracy: 100.00%\n",
            "\n",
            "Epoch: 69 \tTraining Loss: 0.5486 \tValidation Loss: 0.0997\n",
            "\t\tTraining Accuracy: 80.00%\t Validation Accuracy: 100.00%\n",
            "\n",
            "Epoch: 70 \tTraining Loss: 0.4468 \tValidation Loss: 0.0963\n",
            "\t\tTraining Accuracy: 60.00%\t Validation Accuracy: 100.00%\n",
            "\n",
            "Epoch: 71 \tTraining Loss: 0.1887 \tValidation Loss: 0.0932\n",
            "\t\tTraining Accuracy: 80.00%\t Validation Accuracy: 100.00%\n",
            "\n",
            "Epoch: 72 \tTraining Loss: 0.0782 \tValidation Loss: 0.0907\n",
            "\t\tTraining Accuracy: 100.00%\t Validation Accuracy: 100.00%\n",
            "\n",
            "Epoch: 73 \tTraining Loss: 0.0507 \tValidation Loss: 0.0885\n",
            "\t\tTraining Accuracy: 100.00%\t Validation Accuracy: 100.00%\n",
            "\n",
            "Epoch: 74 \tTraining Loss: 0.4546 \tValidation Loss: 0.0864\n",
            "\t\tTraining Accuracy: 60.00%\t Validation Accuracy: 100.00%\n",
            "\n",
            "Epoch: 75 \tTraining Loss: 0.5308 \tValidation Loss: 0.0841\n",
            "\t\tTraining Accuracy: 80.00%\t Validation Accuracy: 100.00%\n",
            "\n",
            "Epoch: 76 \tTraining Loss: 0.2533 \tValidation Loss: 0.0821\n",
            "\t\tTraining Accuracy: 80.00%\t Validation Accuracy: 100.00%\n",
            "\n",
            "Epoch: 77 \tTraining Loss: 0.1766 \tValidation Loss: 0.0801\n",
            "\t\tTraining Accuracy: 100.00%\t Validation Accuracy: 100.00%\n",
            "\n",
            "Epoch: 78 \tTraining Loss: 0.0942 \tValidation Loss: 0.0780\n",
            "\t\tTraining Accuracy: 100.00%\t Validation Accuracy: 100.00%\n",
            "\n",
            "Epoch: 79 \tTraining Loss: 0.4630 \tValidation Loss: 0.0760\n",
            "\t\tTraining Accuracy: 60.00%\t Validation Accuracy: 100.00%\n",
            "\n",
            "Epoch: 80 \tTraining Loss: 0.1127 \tValidation Loss: 0.0743\n",
            "\t\tTraining Accuracy: 100.00%\t Validation Accuracy: 100.00%\n",
            "\n",
            "Epoch: 81 \tTraining Loss: 0.0608 \tValidation Loss: 0.0728\n",
            "\t\tTraining Accuracy: 100.00%\t Validation Accuracy: 100.00%\n",
            "\n",
            "Epoch: 82 \tTraining Loss: 0.0897 \tValidation Loss: 0.0714\n",
            "\t\tTraining Accuracy: 100.00%\t Validation Accuracy: 100.00%\n",
            "\n",
            "Epoch: 83 \tTraining Loss: 0.1898 \tValidation Loss: 0.0695\n",
            "\t\tTraining Accuracy: 100.00%\t Validation Accuracy: 100.00%\n",
            "\n",
            "Epoch: 84 \tTraining Loss: 0.4503 \tValidation Loss: 0.0677\n",
            "\t\tTraining Accuracy: 80.00%\t Validation Accuracy: 100.00%\n",
            "\n",
            "Epoch: 85 \tTraining Loss: 0.2705 \tValidation Loss: 0.0663\n",
            "\t\tTraining Accuracy: 80.00%\t Validation Accuracy: 100.00%\n",
            "\n",
            "Epoch: 86 \tTraining Loss: 0.1756 \tValidation Loss: 0.0652\n",
            "\t\tTraining Accuracy: 80.00%\t Validation Accuracy: 100.00%\n",
            "\n",
            "Epoch: 87 \tTraining Loss: 0.6091 \tValidation Loss: 0.0636\n",
            "\t\tTraining Accuracy: 60.00%\t Validation Accuracy: 100.00%\n",
            "\n",
            "Epoch: 88 \tTraining Loss: 0.2511 \tValidation Loss: 0.0618\n",
            "\t\tTraining Accuracy: 80.00%\t Validation Accuracy: 100.00%\n",
            "\n",
            "Epoch: 89 \tTraining Loss: 0.0313 \tValidation Loss: 0.0605\n",
            "\t\tTraining Accuracy: 100.00%\t Validation Accuracy: 100.00%\n",
            "\n",
            "Epoch: 90 \tTraining Loss: 0.2470 \tValidation Loss: 0.0591\n",
            "\t\tTraining Accuracy: 100.00%\t Validation Accuracy: 100.00%\n",
            "\n",
            "Epoch: 91 \tTraining Loss: 0.0549 \tValidation Loss: 0.0580\n",
            "\t\tTraining Accuracy: 100.00%\t Validation Accuracy: 100.00%\n",
            "\n",
            "Epoch: 92 \tTraining Loss: 0.2716 \tValidation Loss: 0.0570\n",
            "\t\tTraining Accuracy: 80.00%\t Validation Accuracy: 100.00%\n",
            "\n",
            "Epoch: 93 \tTraining Loss: 0.0290 \tValidation Loss: 0.0561\n",
            "\t\tTraining Accuracy: 100.00%\t Validation Accuracy: 100.00%\n",
            "\n",
            "Epoch: 94 \tTraining Loss: 0.0281 \tValidation Loss: 0.0554\n",
            "\t\tTraining Accuracy: 100.00%\t Validation Accuracy: 100.00%\n",
            "\n",
            "Epoch: 95 \tTraining Loss: 0.2941 \tValidation Loss: 0.0545\n",
            "\t\tTraining Accuracy: 100.00%\t Validation Accuracy: 100.00%\n",
            "\n",
            "Epoch: 96 \tTraining Loss: 0.3608 \tValidation Loss: 0.0536\n",
            "\t\tTraining Accuracy: 80.00%\t Validation Accuracy: 100.00%\n",
            "\n",
            "Epoch: 97 \tTraining Loss: 0.3759 \tValidation Loss: 0.0531\n",
            "\t\tTraining Accuracy: 80.00%\t Validation Accuracy: 100.00%\n",
            "\n",
            "Epoch: 98 \tTraining Loss: 0.0252 \tValidation Loss: 0.0525\n",
            "\t\tTraining Accuracy: 100.00%\t Validation Accuracy: 100.00%\n",
            "\n",
            "Epoch: 99 \tTraining Loss: 0.0468 \tValidation Loss: 0.0519\n",
            "\t\tTraining Accuracy: 100.00%\t Validation Accuracy: 100.00%\n",
            "\n",
            "Epoch: 100 \tTraining Loss: 0.0494 \tValidation Loss: 0.0512\n",
            "\t\tTraining Accuracy: 100.00%\t Validation Accuracy: 100.00%\n",
            "\n",
            "Epoch: 101 \tTraining Loss: 0.2551 \tValidation Loss: 0.0505\n",
            "\t\tTraining Accuracy: 80.00%\t Validation Accuracy: 100.00%\n",
            "\n",
            "Epoch: 102 \tTraining Loss: 0.1326 \tValidation Loss: 0.0497\n",
            "\t\tTraining Accuracy: 100.00%\t Validation Accuracy: 100.00%\n",
            "\n",
            "Epoch: 103 \tTraining Loss: 0.2107 \tValidation Loss: 0.0486\n",
            "\t\tTraining Accuracy: 100.00%\t Validation Accuracy: 100.00%\n",
            "\n",
            "Epoch: 104 \tTraining Loss: 0.1868 \tValidation Loss: 0.0476\n",
            "\t\tTraining Accuracy: 100.00%\t Validation Accuracy: 100.00%\n",
            "\n",
            "Epoch: 105 \tTraining Loss: 0.5179 \tValidation Loss: 0.0462\n",
            "\t\tTraining Accuracy: 80.00%\t Validation Accuracy: 100.00%\n",
            "\n",
            "Epoch: 106 \tTraining Loss: 0.1226 \tValidation Loss: 0.0448\n",
            "\t\tTraining Accuracy: 100.00%\t Validation Accuracy: 100.00%\n",
            "\n",
            "Epoch: 107 \tTraining Loss: 0.0199 \tValidation Loss: 0.0438\n",
            "\t\tTraining Accuracy: 100.00%\t Validation Accuracy: 100.00%\n",
            "\n",
            "Epoch: 108 \tTraining Loss: 0.5499 \tValidation Loss: 0.0428\n",
            "\t\tTraining Accuracy: 80.00%\t Validation Accuracy: 100.00%\n",
            "\n",
            "Epoch: 109 \tTraining Loss: 0.1597 \tValidation Loss: 0.0416\n",
            "\t\tTraining Accuracy: 100.00%\t Validation Accuracy: 100.00%\n",
            "\n",
            "Epoch: 110 \tTraining Loss: 0.0581 \tValidation Loss: 0.0406\n",
            "\t\tTraining Accuracy: 100.00%\t Validation Accuracy: 100.00%\n",
            "\n",
            "Epoch: 111 \tTraining Loss: 0.1225 \tValidation Loss: 0.0397\n",
            "\t\tTraining Accuracy: 100.00%\t Validation Accuracy: 100.00%\n",
            "\n",
            "Epoch: 112 \tTraining Loss: 0.0185 \tValidation Loss: 0.0391\n",
            "\t\tTraining Accuracy: 100.00%\t Validation Accuracy: 100.00%\n",
            "\n",
            "Epoch: 113 \tTraining Loss: 0.0470 \tValidation Loss: 0.0385\n",
            "\t\tTraining Accuracy: 100.00%\t Validation Accuracy: 100.00%\n",
            "\n",
            "Epoch: 114 \tTraining Loss: 0.2673 \tValidation Loss: 0.0379\n",
            "\t\tTraining Accuracy: 80.00%\t Validation Accuracy: 100.00%\n",
            "\n",
            "Epoch: 115 \tTraining Loss: 0.2562 \tValidation Loss: 0.0371\n",
            "\t\tTraining Accuracy: 100.00%\t Validation Accuracy: 100.00%\n",
            "\n",
            "Epoch: 116 \tTraining Loss: 0.3491 \tValidation Loss: 0.0364\n",
            "\t\tTraining Accuracy: 80.00%\t Validation Accuracy: 100.00%\n",
            "\n",
            "Epoch: 117 \tTraining Loss: 0.1949 \tValidation Loss: 0.0357\n",
            "\t\tTraining Accuracy: 80.00%\t Validation Accuracy: 100.00%\n",
            "\n",
            "Epoch: 118 \tTraining Loss: 0.2534 \tValidation Loss: 0.0350\n",
            "\t\tTraining Accuracy: 100.00%\t Validation Accuracy: 100.00%\n",
            "\n",
            "Epoch: 119 \tTraining Loss: 0.1313 \tValidation Loss: 0.0343\n",
            "\t\tTraining Accuracy: 100.00%\t Validation Accuracy: 100.00%\n",
            "\n",
            "Epoch: 120 \tTraining Loss: 0.0249 \tValidation Loss: 0.0338\n",
            "\t\tTraining Accuracy: 100.00%\t Validation Accuracy: 100.00%\n",
            "\n",
            "Epoch: 121 \tTraining Loss: 0.1816 \tValidation Loss: 0.0332\n",
            "\t\tTraining Accuracy: 80.00%\t Validation Accuracy: 100.00%\n",
            "\n",
            "Epoch: 122 \tTraining Loss: 0.4391 \tValidation Loss: 0.0325\n",
            "\t\tTraining Accuracy: 60.00%\t Validation Accuracy: 100.00%\n",
            "\n",
            "Epoch: 123 \tTraining Loss: 0.2274 \tValidation Loss: 0.0318\n",
            "\t\tTraining Accuracy: 100.00%\t Validation Accuracy: 100.00%\n",
            "\n",
            "Epoch: 124 \tTraining Loss: 0.0129 \tValidation Loss: 0.0312\n",
            "\t\tTraining Accuracy: 100.00%\t Validation Accuracy: 100.00%\n",
            "\n",
            "Epoch: 125 \tTraining Loss: 0.0371 \tValidation Loss: 0.0306\n",
            "\t\tTraining Accuracy: 100.00%\t Validation Accuracy: 100.00%\n",
            "\n",
            "Epoch: 126 \tTraining Loss: 0.0488 \tValidation Loss: 0.0301\n",
            "\t\tTraining Accuracy: 100.00%\t Validation Accuracy: 100.00%\n",
            "\n",
            "Epoch: 127 \tTraining Loss: 0.4599 \tValidation Loss: 0.0298\n",
            "\t\tTraining Accuracy: 60.00%\t Validation Accuracy: 100.00%\n",
            "\n",
            "Epoch: 128 \tTraining Loss: 0.0128 \tValidation Loss: 0.0295\n",
            "\t\tTraining Accuracy: 100.00%\t Validation Accuracy: 100.00%\n",
            "\n",
            "Epoch: 129 \tTraining Loss: 0.0127 \tValidation Loss: 0.0292\n",
            "\t\tTraining Accuracy: 100.00%\t Validation Accuracy: 100.00%\n",
            "\n",
            "Epoch: 130 \tTraining Loss: 0.2353 \tValidation Loss: 0.0289\n",
            "\t\tTraining Accuracy: 100.00%\t Validation Accuracy: 100.00%\n",
            "\n",
            "Epoch: 131 \tTraining Loss: 0.2472 \tValidation Loss: 0.0285\n",
            "\t\tTraining Accuracy: 80.00%\t Validation Accuracy: 100.00%\n",
            "\n",
            "Epoch: 132 \tTraining Loss: 0.0250 \tValidation Loss: 0.0282\n",
            "\t\tTraining Accuracy: 100.00%\t Validation Accuracy: 100.00%\n",
            "\n",
            "Epoch: 133 \tTraining Loss: 0.0121 \tValidation Loss: 0.0278\n",
            "\t\tTraining Accuracy: 100.00%\t Validation Accuracy: 100.00%\n",
            "\n",
            "Epoch: 134 \tTraining Loss: 0.2048 \tValidation Loss: 0.0275\n",
            "\t\tTraining Accuracy: 80.00%\t Validation Accuracy: 100.00%\n",
            "\n",
            "Epoch: 135 \tTraining Loss: 0.2504 \tValidation Loss: 0.0272\n",
            "\t\tTraining Accuracy: 80.00%\t Validation Accuracy: 100.00%\n",
            "\n",
            "Epoch: 136 \tTraining Loss: 0.2084 \tValidation Loss: 0.0268\n",
            "\t\tTraining Accuracy: 100.00%\t Validation Accuracy: 100.00%\n",
            "\n",
            "Epoch: 137 \tTraining Loss: 0.1360 \tValidation Loss: 0.0263\n",
            "\t\tTraining Accuracy: 100.00%\t Validation Accuracy: 100.00%\n",
            "\n",
            "Epoch: 138 \tTraining Loss: 0.0250 \tValidation Loss: 0.0260\n",
            "\t\tTraining Accuracy: 100.00%\t Validation Accuracy: 100.00%\n",
            "\n",
            "Epoch: 139 \tTraining Loss: 0.0904 \tValidation Loss: 0.0256\n",
            "\t\tTraining Accuracy: 100.00%\t Validation Accuracy: 100.00%\n",
            "\n",
            "Epoch: 140 \tTraining Loss: 0.1258 \tValidation Loss: 0.0252\n",
            "\t\tTraining Accuracy: 100.00%\t Validation Accuracy: 100.00%\n",
            "\n",
            "Epoch: 141 \tTraining Loss: 0.1482 \tValidation Loss: 0.0247\n",
            "\t\tTraining Accuracy: 100.00%\t Validation Accuracy: 100.00%\n",
            "\n",
            "Epoch: 142 \tTraining Loss: 0.0111 \tValidation Loss: 0.0243\n",
            "\t\tTraining Accuracy: 100.00%\t Validation Accuracy: 100.00%\n",
            "\n",
            "Epoch: 143 \tTraining Loss: 0.2894 \tValidation Loss: 0.0241\n",
            "\t\tTraining Accuracy: 80.00%\t Validation Accuracy: 100.00%\n",
            "\n",
            "Epoch: 144 \tTraining Loss: 0.1341 \tValidation Loss: 0.0239\n",
            "\t\tTraining Accuracy: 100.00%\t Validation Accuracy: 100.00%\n",
            "\n",
            "Epoch: 145 \tTraining Loss: 0.0095 \tValidation Loss: 0.0237\n",
            "\t\tTraining Accuracy: 100.00%\t Validation Accuracy: 100.00%\n",
            "\n",
            "Epoch: 146 \tTraining Loss: 0.0197 \tValidation Loss: 0.0235\n",
            "\t\tTraining Accuracy: 100.00%\t Validation Accuracy: 100.00%\n",
            "\n",
            "Epoch: 147 \tTraining Loss: 0.0708 \tValidation Loss: 0.0232\n",
            "\t\tTraining Accuracy: 100.00%\t Validation Accuracy: 100.00%\n",
            "\n",
            "Epoch: 148 \tTraining Loss: 0.2383 \tValidation Loss: 0.0229\n",
            "\t\tTraining Accuracy: 100.00%\t Validation Accuracy: 100.00%\n",
            "\n",
            "Epoch: 149 \tTraining Loss: 0.1927 \tValidation Loss: 0.0222\n",
            "\t\tTraining Accuracy: 100.00%\t Validation Accuracy: 100.00%\n",
            "\n",
            "Epoch: 150 \tTraining Loss: 0.1123 \tValidation Loss: 0.0215\n",
            "\t\tTraining Accuracy: 100.00%\t Validation Accuracy: 100.00%\n",
            "\n",
            "Epoch: 151 \tTraining Loss: 0.1115 \tValidation Loss: 0.0210\n",
            "\t\tTraining Accuracy: 100.00%\t Validation Accuracy: 100.00%\n",
            "\n",
            "Epoch: 152 \tTraining Loss: 0.0080 \tValidation Loss: 0.0206\n",
            "\t\tTraining Accuracy: 100.00%\t Validation Accuracy: 100.00%\n",
            "\n",
            "Epoch: 153 \tTraining Loss: 0.1437 \tValidation Loss: 0.0202\n",
            "\t\tTraining Accuracy: 100.00%\t Validation Accuracy: 100.00%\n",
            "\n",
            "Epoch: 154 \tTraining Loss: 0.0077 \tValidation Loss: 0.0199\n",
            "\t\tTraining Accuracy: 100.00%\t Validation Accuracy: 100.00%\n",
            "\n",
            "Epoch: 155 \tTraining Loss: 0.2583 \tValidation Loss: 0.0193\n",
            "\t\tTraining Accuracy: 100.00%\t Validation Accuracy: 100.00%\n",
            "\n",
            "Epoch: 156 \tTraining Loss: 0.1034 \tValidation Loss: 0.0189\n",
            "\t\tTraining Accuracy: 100.00%\t Validation Accuracy: 100.00%\n",
            "\n",
            "Epoch: 157 \tTraining Loss: 0.0512 \tValidation Loss: 0.0186\n",
            "\t\tTraining Accuracy: 100.00%\t Validation Accuracy: 100.00%\n",
            "\n",
            "Epoch: 158 \tTraining Loss: 0.0183 \tValidation Loss: 0.0183\n",
            "\t\tTraining Accuracy: 100.00%\t Validation Accuracy: 100.00%\n",
            "\n",
            "Epoch: 159 \tTraining Loss: 0.0719 \tValidation Loss: 0.0180\n",
            "\t\tTraining Accuracy: 100.00%\t Validation Accuracy: 100.00%\n",
            "\n",
            "Epoch: 160 \tTraining Loss: 0.2502 \tValidation Loss: 0.0178\n",
            "\t\tTraining Accuracy: 80.00%\t Validation Accuracy: 100.00%\n",
            "\n",
            "Epoch: 161 \tTraining Loss: 0.2222 \tValidation Loss: 0.0175\n",
            "\t\tTraining Accuracy: 80.00%\t Validation Accuracy: 100.00%\n",
            "\n",
            "Epoch: 162 \tTraining Loss: 0.0195 \tValidation Loss: 0.0173\n",
            "\t\tTraining Accuracy: 100.00%\t Validation Accuracy: 100.00%\n",
            "\n",
            "Epoch: 163 \tTraining Loss: 0.0524 \tValidation Loss: 0.0171\n",
            "\t\tTraining Accuracy: 100.00%\t Validation Accuracy: 100.00%\n",
            "\n",
            "Epoch: 164 \tTraining Loss: 0.0436 \tValidation Loss: 0.0169\n",
            "\t\tTraining Accuracy: 100.00%\t Validation Accuracy: 100.00%\n",
            "\n",
            "Epoch: 165 \tTraining Loss: 0.1022 \tValidation Loss: 0.0168\n",
            "\t\tTraining Accuracy: 100.00%\t Validation Accuracy: 100.00%\n",
            "\n",
            "Epoch: 166 \tTraining Loss: 0.0096 \tValidation Loss: 0.0166\n",
            "\t\tTraining Accuracy: 100.00%\t Validation Accuracy: 100.00%\n",
            "\n",
            "Epoch: 167 \tTraining Loss: 0.1021 \tValidation Loss: 0.0164\n",
            "\t\tTraining Accuracy: 100.00%\t Validation Accuracy: 100.00%\n",
            "\n",
            "Epoch: 168 \tTraining Loss: 0.0297 \tValidation Loss: 0.0162\n",
            "\t\tTraining Accuracy: 100.00%\t Validation Accuracy: 100.00%\n",
            "\n",
            "Epoch: 169 \tTraining Loss: 0.0912 \tValidation Loss: 0.0160\n",
            "\t\tTraining Accuracy: 100.00%\t Validation Accuracy: 100.00%\n",
            "\n",
            "Epoch: 170 \tTraining Loss: 0.0066 \tValidation Loss: 0.0159\n",
            "\t\tTraining Accuracy: 100.00%\t Validation Accuracy: 100.00%\n",
            "\n",
            "Epoch: 171 \tTraining Loss: 0.1777 \tValidation Loss: 0.0156\n",
            "\t\tTraining Accuracy: 100.00%\t Validation Accuracy: 100.00%\n",
            "\n",
            "Epoch: 172 \tTraining Loss: 0.2725 \tValidation Loss: 0.0153\n",
            "\t\tTraining Accuracy: 80.00%\t Validation Accuracy: 100.00%\n",
            "\n",
            "Epoch: 173 \tTraining Loss: 0.1346 \tValidation Loss: 0.0151\n",
            "\t\tTraining Accuracy: 100.00%\t Validation Accuracy: 100.00%\n",
            "\n",
            "Epoch: 174 \tTraining Loss: 0.0057 \tValidation Loss: 0.0149\n",
            "\t\tTraining Accuracy: 100.00%\t Validation Accuracy: 100.00%\n",
            "\n",
            "Epoch: 175 \tTraining Loss: 0.3729 \tValidation Loss: 0.0146\n",
            "\t\tTraining Accuracy: 80.00%\t Validation Accuracy: 100.00%\n",
            "\n",
            "Epoch: 176 \tTraining Loss: 0.0951 \tValidation Loss: 0.0142\n",
            "\t\tTraining Accuracy: 100.00%\t Validation Accuracy: 100.00%\n",
            "\n",
            "Epoch: 177 \tTraining Loss: 0.0832 \tValidation Loss: 0.0139\n",
            "\t\tTraining Accuracy: 100.00%\t Validation Accuracy: 100.00%\n",
            "\n",
            "Epoch: 178 \tTraining Loss: 0.0049 \tValidation Loss: 0.0137\n",
            "\t\tTraining Accuracy: 100.00%\t Validation Accuracy: 100.00%\n",
            "\n",
            "Epoch: 179 \tTraining Loss: 0.0334 \tValidation Loss: 0.0135\n",
            "\t\tTraining Accuracy: 100.00%\t Validation Accuracy: 100.00%\n",
            "\n",
            "Epoch: 180 \tTraining Loss: 0.0054 \tValidation Loss: 0.0134\n",
            "\t\tTraining Accuracy: 100.00%\t Validation Accuracy: 100.00%\n",
            "\n",
            "Epoch: 181 \tTraining Loss: 0.0856 \tValidation Loss: 0.0132\n",
            "\t\tTraining Accuracy: 100.00%\t Validation Accuracy: 100.00%\n",
            "\n",
            "Epoch: 182 \tTraining Loss: 0.0062 \tValidation Loss: 0.0131\n",
            "\t\tTraining Accuracy: 100.00%\t Validation Accuracy: 100.00%\n",
            "\n",
            "Epoch: 183 \tTraining Loss: 0.0046 \tValidation Loss: 0.0130\n",
            "\t\tTraining Accuracy: 100.00%\t Validation Accuracy: 100.00%\n",
            "\n",
            "Epoch: 184 \tTraining Loss: 0.0349 \tValidation Loss: 0.0129\n",
            "\t\tTraining Accuracy: 100.00%\t Validation Accuracy: 100.00%\n",
            "\n",
            "Epoch: 185 \tTraining Loss: 0.0370 \tValidation Loss: 0.0128\n",
            "\t\tTraining Accuracy: 100.00%\t Validation Accuracy: 100.00%\n",
            "\n",
            "Epoch: 186 \tTraining Loss: 0.2843 \tValidation Loss: 0.0126\n",
            "\t\tTraining Accuracy: 100.00%\t Validation Accuracy: 100.00%\n",
            "\n",
            "Epoch: 187 \tTraining Loss: 0.3072 \tValidation Loss: 0.0124\n",
            "\t\tTraining Accuracy: 100.00%\t Validation Accuracy: 100.00%\n",
            "\n",
            "Epoch: 188 \tTraining Loss: 0.0090 \tValidation Loss: 0.0122\n",
            "\t\tTraining Accuracy: 100.00%\t Validation Accuracy: 100.00%\n",
            "\n",
            "Epoch: 189 \tTraining Loss: 0.0048 \tValidation Loss: 0.0121\n",
            "\t\tTraining Accuracy: 100.00%\t Validation Accuracy: 100.00%\n",
            "\n",
            "Epoch: 190 \tTraining Loss: 0.0148 \tValidation Loss: 0.0120\n",
            "\t\tTraining Accuracy: 100.00%\t Validation Accuracy: 100.00%\n",
            "\n",
            "Epoch: 191 \tTraining Loss: 0.0674 \tValidation Loss: 0.0118\n",
            "\t\tTraining Accuracy: 100.00%\t Validation Accuracy: 100.00%\n",
            "\n",
            "Epoch: 192 \tTraining Loss: 0.0042 \tValidation Loss: 0.0117\n",
            "\t\tTraining Accuracy: 100.00%\t Validation Accuracy: 100.00%\n",
            "\n",
            "Epoch: 193 \tTraining Loss: 0.0746 \tValidation Loss: 0.0115\n",
            "\t\tTraining Accuracy: 100.00%\t Validation Accuracy: 100.00%\n",
            "\n",
            "Epoch: 194 \tTraining Loss: 0.0077 \tValidation Loss: 0.0113\n",
            "\t\tTraining Accuracy: 100.00%\t Validation Accuracy: 100.00%\n",
            "\n",
            "Epoch: 195 \tTraining Loss: 0.1057 \tValidation Loss: 0.0112\n",
            "\t\tTraining Accuracy: 100.00%\t Validation Accuracy: 100.00%\n",
            "\n",
            "Epoch: 196 \tTraining Loss: 0.0737 \tValidation Loss: 0.0110\n",
            "\t\tTraining Accuracy: 100.00%\t Validation Accuracy: 100.00%\n",
            "\n",
            "Epoch: 197 \tTraining Loss: 0.0981 \tValidation Loss: 0.0108\n",
            "\t\tTraining Accuracy: 100.00%\t Validation Accuracy: 100.00%\n",
            "\n",
            "Epoch: 198 \tTraining Loss: 0.0617 \tValidation Loss: 0.0106\n",
            "\t\tTraining Accuracy: 100.00%\t Validation Accuracy: 100.00%\n",
            "\n",
            "Epoch: 199 \tTraining Loss: 0.0417 \tValidation Loss: 0.0104\n",
            "\t\tTraining Accuracy: 100.00%\t Validation Accuracy: 100.00%\n",
            "\n",
            "Epoch: 200 \tTraining Loss: 0.2502 \tValidation Loss: 0.0103\n",
            "\t\tTraining Accuracy: 80.00%\t Validation Accuracy: 100.00%\n",
            "\n",
            "Epoch: 201 \tTraining Loss: 0.0812 \tValidation Loss: 0.0101\n",
            "\t\tTraining Accuracy: 100.00%\t Validation Accuracy: 100.00%\n",
            "\n",
            "Epoch: 202 \tTraining Loss: 0.0332 \tValidation Loss: 0.0100\n",
            "\t\tTraining Accuracy: 100.00%\t Validation Accuracy: 100.00%\n",
            "\n",
            "Epoch: 203 \tTraining Loss: 0.2645 \tValidation Loss: 0.0099\n",
            "\t\tTraining Accuracy: 80.00%\t Validation Accuracy: 100.00%\n",
            "\n",
            "Epoch: 204 \tTraining Loss: 0.0752 \tValidation Loss: 0.0098\n",
            "\t\tTraining Accuracy: 100.00%\t Validation Accuracy: 100.00%\n",
            "\n",
            "Epoch: 205 \tTraining Loss: 0.0121 \tValidation Loss: 0.0097\n",
            "\t\tTraining Accuracy: 100.00%\t Validation Accuracy: 100.00%\n",
            "\n",
            "Epoch: 206 \tTraining Loss: 0.0055 \tValidation Loss: 0.0096\n",
            "\t\tTraining Accuracy: 100.00%\t Validation Accuracy: 100.00%\n",
            "\n",
            "Epoch: 207 \tTraining Loss: 0.0136 \tValidation Loss: 0.0095\n",
            "\t\tTraining Accuracy: 100.00%\t Validation Accuracy: 100.00%\n",
            "\n",
            "Epoch: 208 \tTraining Loss: 0.0555 \tValidation Loss: 0.0094\n",
            "\t\tTraining Accuracy: 100.00%\t Validation Accuracy: 100.00%\n",
            "\n",
            "Epoch: 209 \tTraining Loss: 0.0154 \tValidation Loss: 0.0093\n",
            "\t\tTraining Accuracy: 100.00%\t Validation Accuracy: 100.00%\n",
            "\n",
            "Epoch: 210 \tTraining Loss: 0.0796 \tValidation Loss: 0.0092\n",
            "\t\tTraining Accuracy: 100.00%\t Validation Accuracy: 100.00%\n",
            "\n",
            "Epoch: 211 \tTraining Loss: 0.0638 \tValidation Loss: 0.0090\n",
            "\t\tTraining Accuracy: 100.00%\t Validation Accuracy: 100.00%\n",
            "\n",
            "Epoch: 212 \tTraining Loss: 0.0140 \tValidation Loss: 0.0089\n",
            "\t\tTraining Accuracy: 100.00%\t Validation Accuracy: 100.00%\n",
            "\n",
            "Epoch: 213 \tTraining Loss: 0.0760 \tValidation Loss: 0.0088\n",
            "\t\tTraining Accuracy: 100.00%\t Validation Accuracy: 100.00%\n",
            "\n",
            "Epoch: 214 \tTraining Loss: 0.3930 \tValidation Loss: 0.0086\n",
            "\t\tTraining Accuracy: 80.00%\t Validation Accuracy: 100.00%\n",
            "\n",
            "Epoch: 215 \tTraining Loss: 0.3248 \tValidation Loss: 0.0084\n",
            "\t\tTraining Accuracy: 80.00%\t Validation Accuracy: 100.00%\n",
            "\n",
            "Epoch: 216 \tTraining Loss: 0.0582 \tValidation Loss: 0.0083\n",
            "\t\tTraining Accuracy: 100.00%\t Validation Accuracy: 100.00%\n",
            "\n",
            "Epoch: 217 \tTraining Loss: 0.0483 \tValidation Loss: 0.0081\n",
            "\t\tTraining Accuracy: 100.00%\t Validation Accuracy: 100.00%\n",
            "\n",
            "Epoch: 218 \tTraining Loss: 0.0091 \tValidation Loss: 0.0080\n",
            "\t\tTraining Accuracy: 100.00%\t Validation Accuracy: 100.00%\n",
            "\n",
            "Epoch: 219 \tTraining Loss: 0.0046 \tValidation Loss: 0.0079\n",
            "\t\tTraining Accuracy: 100.00%\t Validation Accuracy: 100.00%\n",
            "\n",
            "Epoch: 220 \tTraining Loss: 0.2133 \tValidation Loss: 0.0078\n",
            "\t\tTraining Accuracy: 100.00%\t Validation Accuracy: 100.00%\n",
            "\n",
            "Epoch: 221 \tTraining Loss: 0.0025 \tValidation Loss: 0.0078\n",
            "\t\tTraining Accuracy: 100.00%\t Validation Accuracy: 100.00%\n",
            "\n",
            "Epoch: 222 \tTraining Loss: 0.0479 \tValidation Loss: 0.0077\n",
            "\t\tTraining Accuracy: 100.00%\t Validation Accuracy: 100.00%\n",
            "\n",
            "Epoch: 223 \tTraining Loss: 0.0664 \tValidation Loss: 0.0076\n",
            "\t\tTraining Accuracy: 100.00%\t Validation Accuracy: 100.00%\n",
            "\n",
            "Epoch: 224 \tTraining Loss: 0.0518 \tValidation Loss: 0.0076\n",
            "\t\tTraining Accuracy: 100.00%\t Validation Accuracy: 100.00%\n",
            "\n",
            "Epoch: 225 \tTraining Loss: 0.1562 \tValidation Loss: 0.0074\n",
            "\t\tTraining Accuracy: 100.00%\t Validation Accuracy: 100.00%\n",
            "\n",
            "Epoch: 226 \tTraining Loss: 0.0591 \tValidation Loss: 0.0073\n",
            "\t\tTraining Accuracy: 100.00%\t Validation Accuracy: 100.00%\n",
            "\n",
            "Epoch: 227 \tTraining Loss: 0.1015 \tValidation Loss: 0.0071\n",
            "\t\tTraining Accuracy: 100.00%\t Validation Accuracy: 100.00%\n",
            "\n",
            "Epoch: 228 \tTraining Loss: 0.0455 \tValidation Loss: 0.0069\n",
            "\t\tTraining Accuracy: 100.00%\t Validation Accuracy: 100.00%\n",
            "\n",
            "Epoch: 229 \tTraining Loss: 0.0655 \tValidation Loss: 0.0068\n",
            "\t\tTraining Accuracy: 100.00%\t Validation Accuracy: 100.00%\n",
            "\n",
            "Epoch: 230 \tTraining Loss: 0.0020 \tValidation Loss: 0.0067\n",
            "\t\tTraining Accuracy: 100.00%\t Validation Accuracy: 100.00%\n",
            "\n",
            "Epoch: 231 \tTraining Loss: 0.0076 \tValidation Loss: 0.0066\n",
            "\t\tTraining Accuracy: 100.00%\t Validation Accuracy: 100.00%\n",
            "\n",
            "Epoch: 232 \tTraining Loss: 0.0020 \tValidation Loss: 0.0066\n",
            "\t\tTraining Accuracy: 100.00%\t Validation Accuracy: 100.00%\n",
            "\n",
            "Epoch: 233 \tTraining Loss: 0.0578 \tValidation Loss: 0.0065\n",
            "\t\tTraining Accuracy: 100.00%\t Validation Accuracy: 100.00%\n",
            "\n",
            "Epoch: 234 \tTraining Loss: 0.2675 \tValidation Loss: 0.0065\n",
            "\t\tTraining Accuracy: 80.00%\t Validation Accuracy: 100.00%\n",
            "\n",
            "Epoch: 235 \tTraining Loss: 0.1049 \tValidation Loss: 0.0064\n",
            "\t\tTraining Accuracy: 100.00%\t Validation Accuracy: 100.00%\n",
            "\n",
            "Epoch: 236 \tTraining Loss: 0.0498 \tValidation Loss: 0.0063\n",
            "\t\tTraining Accuracy: 100.00%\t Validation Accuracy: 100.00%\n",
            "\n",
            "Epoch: 237 \tTraining Loss: 0.0726 \tValidation Loss: 0.0061\n",
            "\t\tTraining Accuracy: 100.00%\t Validation Accuracy: 100.00%\n",
            "\n",
            "Epoch: 238 \tTraining Loss: 0.2510 \tValidation Loss: 0.0060\n",
            "\t\tTraining Accuracy: 100.00%\t Validation Accuracy: 100.00%\n",
            "\n",
            "Epoch: 239 \tTraining Loss: 0.0020 \tValidation Loss: 0.0060\n",
            "\t\tTraining Accuracy: 100.00%\t Validation Accuracy: 100.00%\n",
            "\n",
            "Epoch: 240 \tTraining Loss: 0.0169 \tValidation Loss: 0.0059\n",
            "\t\tTraining Accuracy: 100.00%\t Validation Accuracy: 100.00%\n",
            "\n",
            "Epoch: 241 \tTraining Loss: 0.0075 \tValidation Loss: 0.0059\n",
            "\t\tTraining Accuracy: 100.00%\t Validation Accuracy: 100.00%\n",
            "\n",
            "Epoch: 242 \tTraining Loss: 0.0020 \tValidation Loss: 0.0058\n",
            "\t\tTraining Accuracy: 100.00%\t Validation Accuracy: 100.00%\n",
            "\n",
            "Epoch: 243 \tTraining Loss: 0.0366 \tValidation Loss: 0.0058\n",
            "\t\tTraining Accuracy: 100.00%\t Validation Accuracy: 100.00%\n",
            "\n",
            "Epoch: 244 \tTraining Loss: 0.0035 \tValidation Loss: 0.0057\n",
            "\t\tTraining Accuracy: 100.00%\t Validation Accuracy: 100.00%\n",
            "\n",
            "Epoch: 245 \tTraining Loss: 0.0020 \tValidation Loss: 0.0057\n",
            "\t\tTraining Accuracy: 100.00%\t Validation Accuracy: 100.00%\n",
            "\n",
            "Epoch: 246 \tTraining Loss: 0.0020 \tValidation Loss: 0.0056\n",
            "\t\tTraining Accuracy: 100.00%\t Validation Accuracy: 100.00%\n",
            "\n",
            "Epoch: 247 \tTraining Loss: 0.0016 \tValidation Loss: 0.0056\n",
            "\t\tTraining Accuracy: 100.00%\t Validation Accuracy: 100.00%\n",
            "\n",
            "Epoch: 248 \tTraining Loss: 0.0388 \tValidation Loss: 0.0056\n",
            "\t\tTraining Accuracy: 100.00%\t Validation Accuracy: 100.00%\n",
            "\n",
            "Epoch: 249 \tTraining Loss: 0.0058 \tValidation Loss: 0.0055\n",
            "\t\tTraining Accuracy: 100.00%\t Validation Accuracy: 100.00%\n",
            "\n",
            "Epoch: 250 \tTraining Loss: 0.0345 \tValidation Loss: 0.0055\n",
            "\t\tTraining Accuracy: 100.00%\t Validation Accuracy: 100.00%\n",
            "\n",
            "Epoch: 251 \tTraining Loss: 0.0166 \tValidation Loss: 0.0054\n",
            "\t\tTraining Accuracy: 100.00%\t Validation Accuracy: 100.00%\n",
            "\n",
            "Epoch: 252 \tTraining Loss: 0.0608 \tValidation Loss: 0.0054\n",
            "\t\tTraining Accuracy: 100.00%\t Validation Accuracy: 100.00%\n",
            "\n",
            "Epoch: 253 \tTraining Loss: 0.0079 \tValidation Loss: 0.0053\n",
            "\t\tTraining Accuracy: 100.00%\t Validation Accuracy: 100.00%\n",
            "\n",
            "Epoch: 254 \tTraining Loss: 0.2097 \tValidation Loss: 0.0053\n",
            "\t\tTraining Accuracy: 80.00%\t Validation Accuracy: 100.00%\n",
            "\n",
            "Epoch: 255 \tTraining Loss: 0.0856 \tValidation Loss: 0.0052\n",
            "\t\tTraining Accuracy: 100.00%\t Validation Accuracy: 100.00%\n",
            "\n",
            "Epoch: 256 \tTraining Loss: 0.0014 \tValidation Loss: 0.0051\n",
            "\t\tTraining Accuracy: 100.00%\t Validation Accuracy: 100.00%\n",
            "\n",
            "Epoch: 257 \tTraining Loss: 0.0020 \tValidation Loss: 0.0051\n",
            "\t\tTraining Accuracy: 100.00%\t Validation Accuracy: 100.00%\n",
            "\n",
            "Epoch: 258 \tTraining Loss: 0.0178 \tValidation Loss: 0.0050\n",
            "\t\tTraining Accuracy: 100.00%\t Validation Accuracy: 100.00%\n",
            "\n",
            "Epoch: 259 \tTraining Loss: 0.0163 \tValidation Loss: 0.0050\n",
            "\t\tTraining Accuracy: 100.00%\t Validation Accuracy: 100.00%\n",
            "\n",
            "Epoch: 260 \tTraining Loss: 0.0014 \tValidation Loss: 0.0050\n",
            "\t\tTraining Accuracy: 100.00%\t Validation Accuracy: 100.00%\n",
            "\n",
            "Epoch: 261 \tTraining Loss: 0.0014 \tValidation Loss: 0.0049\n",
            "\t\tTraining Accuracy: 100.00%\t Validation Accuracy: 100.00%\n",
            "\n",
            "Epoch: 262 \tTraining Loss: 0.0062 \tValidation Loss: 0.0049\n",
            "\t\tTraining Accuracy: 100.00%\t Validation Accuracy: 100.00%\n",
            "\n",
            "Epoch: 263 \tTraining Loss: 0.4682 \tValidation Loss: 0.0049\n",
            "\t\tTraining Accuracy: 80.00%\t Validation Accuracy: 100.00%\n",
            "\n",
            "Epoch: 264 \tTraining Loss: 0.0061 \tValidation Loss: 0.0049\n",
            "\t\tTraining Accuracy: 100.00%\t Validation Accuracy: 100.00%\n",
            "\n",
            "Epoch: 265 \tTraining Loss: 0.0395 \tValidation Loss: 0.0049\n",
            "\t\tTraining Accuracy: 100.00%\t Validation Accuracy: 100.00%\n",
            "\n",
            "Epoch: 266 \tTraining Loss: 0.0392 \tValidation Loss: 0.0048\n",
            "\t\tTraining Accuracy: 100.00%\t Validation Accuracy: 100.00%\n",
            "\n",
            "Epoch: 267 \tTraining Loss: 0.2883 \tValidation Loss: 0.0047\n",
            "\t\tTraining Accuracy: 80.00%\t Validation Accuracy: 100.00%\n",
            "\n",
            "Epoch: 268 \tTraining Loss: 0.0437 \tValidation Loss: 0.0047\n",
            "\t\tTraining Accuracy: 100.00%\t Validation Accuracy: 100.00%\n",
            "\n",
            "Epoch: 269 \tTraining Loss: 0.0013 \tValidation Loss: 0.0047\n",
            "\t\tTraining Accuracy: 100.00%\t Validation Accuracy: 100.00%\n",
            "\n",
            "Epoch: 270 \tTraining Loss: 0.0108 \tValidation Loss: 0.0047\n",
            "\t\tTraining Accuracy: 100.00%\t Validation Accuracy: 100.00%\n",
            "\n",
            "Epoch: 271 \tTraining Loss: 0.0030 \tValidation Loss: 0.0047\n",
            "\t\tTraining Accuracy: 100.00%\t Validation Accuracy: 100.00%\n",
            "\n",
            "Epoch: 272 \tTraining Loss: 0.2333 \tValidation Loss: 0.0047\n",
            "\t\tTraining Accuracy: 80.00%\t Validation Accuracy: 100.00%\n",
            "\n",
            "Epoch: 273 \tTraining Loss: 0.0264 \tValidation Loss: 0.0046\n",
            "\t\tTraining Accuracy: 100.00%\t Validation Accuracy: 100.00%\n",
            "\n",
            "Epoch: 274 \tTraining Loss: 0.0559 \tValidation Loss: 0.0046\n",
            "\t\tTraining Accuracy: 100.00%\t Validation Accuracy: 100.00%\n",
            "\n",
            "Epoch: 275 \tTraining Loss: 0.1590 \tValidation Loss: 0.0045\n",
            "\t\tTraining Accuracy: 100.00%\t Validation Accuracy: 100.00%\n",
            "\n",
            "Epoch: 276 \tTraining Loss: 0.0545 \tValidation Loss: 0.0045\n",
            "\t\tTraining Accuracy: 100.00%\t Validation Accuracy: 100.00%\n",
            "\n",
            "Epoch: 277 \tTraining Loss: 0.0090 \tValidation Loss: 0.0044\n",
            "\t\tTraining Accuracy: 100.00%\t Validation Accuracy: 100.00%\n",
            "\n",
            "Epoch: 278 \tTraining Loss: 0.2070 \tValidation Loss: 0.0044\n",
            "\t\tTraining Accuracy: 100.00%\t Validation Accuracy: 100.00%\n",
            "\n",
            "Epoch: 279 \tTraining Loss: 0.0066 \tValidation Loss: 0.0043\n",
            "\t\tTraining Accuracy: 100.00%\t Validation Accuracy: 100.00%\n",
            "\n",
            "Epoch: 280 \tTraining Loss: 0.0496 \tValidation Loss: 0.0043\n",
            "\t\tTraining Accuracy: 100.00%\t Validation Accuracy: 100.00%\n",
            "\n",
            "Epoch: 281 \tTraining Loss: 0.0012 \tValidation Loss: 0.0043\n",
            "\t\tTraining Accuracy: 100.00%\t Validation Accuracy: 100.00%\n",
            "\n",
            "Epoch: 282 \tTraining Loss: 0.0117 \tValidation Loss: 0.0042\n",
            "\t\tTraining Accuracy: 100.00%\t Validation Accuracy: 100.00%\n",
            "\n",
            "Epoch: 283 \tTraining Loss: 0.0052 \tValidation Loss: 0.0042\n",
            "\t\tTraining Accuracy: 100.00%\t Validation Accuracy: 100.00%\n",
            "\n",
            "Epoch: 284 \tTraining Loss: 0.0018 \tValidation Loss: 0.0042\n",
            "\t\tTraining Accuracy: 100.00%\t Validation Accuracy: 100.00%\n",
            "\n",
            "Epoch: 285 \tTraining Loss: 0.0139 \tValidation Loss: 0.0042\n",
            "\t\tTraining Accuracy: 100.00%\t Validation Accuracy: 100.00%\n",
            "\n",
            "Epoch: 286 \tTraining Loss: 0.0086 \tValidation Loss: 0.0041\n",
            "\t\tTraining Accuracy: 100.00%\t Validation Accuracy: 100.00%\n",
            "\n",
            "Epoch: 287 \tTraining Loss: 0.0011 \tValidation Loss: 0.0041\n",
            "\t\tTraining Accuracy: 100.00%\t Validation Accuracy: 100.00%\n",
            "\n",
            "Epoch: 288 \tTraining Loss: 0.0062 \tValidation Loss: 0.0041\n",
            "\t\tTraining Accuracy: 100.00%\t Validation Accuracy: 100.00%\n",
            "\n",
            "Epoch: 289 \tTraining Loss: 0.0302 \tValidation Loss: 0.0041\n",
            "\t\tTraining Accuracy: 100.00%\t Validation Accuracy: 100.00%\n",
            "\n",
            "Epoch: 290 \tTraining Loss: 0.0068 \tValidation Loss: 0.0040\n",
            "\t\tTraining Accuracy: 100.00%\t Validation Accuracy: 100.00%\n",
            "\n",
            "Epoch: 291 \tTraining Loss: 0.0011 \tValidation Loss: 0.0040\n",
            "\t\tTraining Accuracy: 100.00%\t Validation Accuracy: 100.00%\n",
            "\n",
            "Epoch: 292 \tTraining Loss: 0.0469 \tValidation Loss: 0.0040\n",
            "\t\tTraining Accuracy: 100.00%\t Validation Accuracy: 100.00%\n",
            "\n",
            "Epoch: 293 \tTraining Loss: 0.0571 \tValidation Loss: 0.0039\n",
            "\t\tTraining Accuracy: 100.00%\t Validation Accuracy: 100.00%\n",
            "\n",
            "Epoch: 294 \tTraining Loss: 0.0083 \tValidation Loss: 0.0039\n",
            "\t\tTraining Accuracy: 100.00%\t Validation Accuracy: 100.00%\n",
            "\n",
            "Epoch: 295 \tTraining Loss: 0.0481 \tValidation Loss: 0.0038\n",
            "\t\tTraining Accuracy: 100.00%\t Validation Accuracy: 100.00%\n",
            "\n",
            "Epoch: 296 \tTraining Loss: 0.1278 \tValidation Loss: 0.0038\n",
            "\t\tTraining Accuracy: 100.00%\t Validation Accuracy: 100.00%\n",
            "\n",
            "Epoch: 297 \tTraining Loss: 0.0407 \tValidation Loss: 0.0037\n",
            "\t\tTraining Accuracy: 100.00%\t Validation Accuracy: 100.00%\n",
            "\n",
            "Epoch: 298 \tTraining Loss: 0.0508 \tValidation Loss: 0.0037\n",
            "\t\tTraining Accuracy: 100.00%\t Validation Accuracy: 100.00%\n",
            "\n",
            "Epoch: 299 \tTraining Loss: 0.0548 \tValidation Loss: 0.0037\n",
            "\t\tTraining Accuracy: 100.00%\t Validation Accuracy: 100.00%\n",
            "\n",
            "Epoch: 300 \tTraining Loss: 0.1076 \tValidation Loss: 0.0036\n",
            "\t\tTraining Accuracy: 100.00%\t Validation Accuracy: 100.00%\n",
            "\n",
            "Epoch: 301 \tTraining Loss: 0.0009 \tValidation Loss: 0.0036\n",
            "\t\tTraining Accuracy: 100.00%\t Validation Accuracy: 100.00%\n",
            "\n",
            "Epoch: 302 \tTraining Loss: 0.0428 \tValidation Loss: 0.0035\n",
            "\t\tTraining Accuracy: 100.00%\t Validation Accuracy: 100.00%\n",
            "\n",
            "Epoch: 303 \tTraining Loss: 0.0056 \tValidation Loss: 0.0035\n",
            "\t\tTraining Accuracy: 100.00%\t Validation Accuracy: 100.00%\n",
            "\n",
            "Epoch: 304 \tTraining Loss: 0.2123 \tValidation Loss: 0.0035\n",
            "\t\tTraining Accuracy: 100.00%\t Validation Accuracy: 100.00%\n",
            "\n",
            "Epoch: 305 \tTraining Loss: 0.0055 \tValidation Loss: 0.0035\n",
            "\t\tTraining Accuracy: 100.00%\t Validation Accuracy: 100.00%\n",
            "\n",
            "Epoch: 306 \tTraining Loss: 0.1381 \tValidation Loss: 0.0034\n",
            "\t\tTraining Accuracy: 100.00%\t Validation Accuracy: 100.00%\n",
            "\n",
            "Epoch: 307 \tTraining Loss: 0.0397 \tValidation Loss: 0.0034\n",
            "\t\tTraining Accuracy: 100.00%\t Validation Accuracy: 100.00%\n",
            "\n",
            "Epoch: 308 \tTraining Loss: 0.2217 \tValidation Loss: 0.0034\n",
            "\t\tTraining Accuracy: 80.00%\t Validation Accuracy: 100.00%\n",
            "\n",
            "Epoch: 309 \tTraining Loss: 0.0018 \tValidation Loss: 0.0034\n",
            "\t\tTraining Accuracy: 100.00%\t Validation Accuracy: 100.00%\n",
            "\n",
            "Epoch: 310 \tTraining Loss: 0.0009 \tValidation Loss: 0.0033\n",
            "\t\tTraining Accuracy: 100.00%\t Validation Accuracy: 100.00%\n",
            "\n",
            "Epoch: 311 \tTraining Loss: 0.0076 \tValidation Loss: 0.0033\n",
            "\t\tTraining Accuracy: 100.00%\t Validation Accuracy: 100.00%\n",
            "\n",
            "Epoch: 312 \tTraining Loss: 0.0296 \tValidation Loss: 0.0033\n",
            "\t\tTraining Accuracy: 100.00%\t Validation Accuracy: 100.00%\n",
            "\n",
            "Epoch: 313 \tTraining Loss: 0.0299 \tValidation Loss: 0.0033\n",
            "\t\tTraining Accuracy: 100.00%\t Validation Accuracy: 100.00%\n",
            "\n",
            "Epoch: 314 \tTraining Loss: 0.0183 \tValidation Loss: 0.0032\n",
            "\t\tTraining Accuracy: 100.00%\t Validation Accuracy: 100.00%\n",
            "\n",
            "Epoch: 315 \tTraining Loss: 0.0151 \tValidation Loss: 0.0032\n",
            "\t\tTraining Accuracy: 100.00%\t Validation Accuracy: 100.00%\n",
            "\n",
            "Epoch: 316 \tTraining Loss: 0.1019 \tValidation Loss: 0.0031\n",
            "\t\tTraining Accuracy: 100.00%\t Validation Accuracy: 100.00%\n",
            "\n",
            "Epoch: 317 \tTraining Loss: 0.0040 \tValidation Loss: 0.0031\n",
            "\t\tTraining Accuracy: 100.00%\t Validation Accuracy: 100.00%\n",
            "\n",
            "Epoch: 318 \tTraining Loss: 0.0061 \tValidation Loss: 0.0031\n",
            "\t\tTraining Accuracy: 100.00%\t Validation Accuracy: 100.00%\n",
            "\n",
            "Epoch: 319 \tTraining Loss: 0.0682 \tValidation Loss: 0.0031\n",
            "\t\tTraining Accuracy: 100.00%\t Validation Accuracy: 100.00%\n",
            "\n",
            "Epoch: 320 \tTraining Loss: 0.2424 \tValidation Loss: 0.0031\n",
            "\t\tTraining Accuracy: 80.00%\t Validation Accuracy: 100.00%\n",
            "\n",
            "Epoch: 321 \tTraining Loss: 0.0085 \tValidation Loss: 0.0031\n",
            "\t\tTraining Accuracy: 100.00%\t Validation Accuracy: 100.00%\n",
            "\n",
            "Epoch: 322 \tTraining Loss: 0.0471 \tValidation Loss: 0.0031\n",
            "\t\tTraining Accuracy: 100.00%\t Validation Accuracy: 100.00%\n",
            "\n",
            "Early Stopping! Total epochs: 322. Best epoch: 319 with loss: 0.00 and acc: 100.00%\n",
            "218.68 total seconds elapsed. 0.68 seconds per epoch.\n"
          ]
        }
      ]
    },
    {
      "cell_type": "markdown",
      "metadata": {
        "id": "n5oRuk5hSEYx"
      },
      "source": [
        "Now, we can check the losses and accuracy during the training."
      ]
    },
    {
      "cell_type": "code",
      "metadata": {
        "id": "-yJuZ4W2SD1W",
        "colab": {
          "base_uri": "https://localhost:8080/",
          "height": 685
        },
        "outputId": "7b011098-efc1-4a14-ad15-cb6bff60e40f"
      },
      "source": [
        "plt.figure(figsize=(8, 6))\n",
        "for c in ['train_loss', 'valid_loss']:\n",
        "    plt.plot(\n",
        "        history[c], label=c)\n",
        "plt.legend()\n",
        "plt.xlabel('Epoch')\n",
        "plt.ylabel('Average Negative Log Likelihood')\n",
        "plt.title('Training and Validation Losses')\n",
        "plt.show()"
      ],
      "execution_count": 77,
      "outputs": [
        {
          "output_type": "execute_result",
          "data": {
            "text/plain": [
              "<Figure size 800x600 with 0 Axes>"
            ]
          },
          "metadata": {},
          "execution_count": 77
        },
        {
          "output_type": "execute_result",
          "data": {
            "text/plain": [
              "[<matplotlib.lines.Line2D at 0x79041539aad0>]"
            ]
          },
          "metadata": {},
          "execution_count": 77
        },
        {
          "output_type": "execute_result",
          "data": {
            "text/plain": [
              "[<matplotlib.lines.Line2D at 0x79022c127190>]"
            ]
          },
          "metadata": {},
          "execution_count": 77
        },
        {
          "output_type": "execute_result",
          "data": {
            "text/plain": [
              "<matplotlib.legend.Legend at 0x7904153db9d0>"
            ]
          },
          "metadata": {},
          "execution_count": 77
        },
        {
          "output_type": "execute_result",
          "data": {
            "text/plain": [
              "Text(0.5, 0, 'Epoch')"
            ]
          },
          "metadata": {},
          "execution_count": 77
        },
        {
          "output_type": "execute_result",
          "data": {
            "text/plain": [
              "Text(0, 0.5, 'Average Negative Log Likelihood')"
            ]
          },
          "metadata": {},
          "execution_count": 77
        },
        {
          "output_type": "execute_result",
          "data": {
            "text/plain": [
              "Text(0.5, 1.0, 'Training and Validation Losses')"
            ]
          },
          "metadata": {},
          "execution_count": 77
        },
        {
          "output_type": "display_data",
          "data": {
            "text/plain": [
              "<Figure size 800x600 with 1 Axes>"
            ],
            "image/png": "[encoded data removed]"
          },
          "metadata": {}
        }
      ]
    },
    {
      "cell_type": "code",
      "metadata": {
        "id": "nT_VflxLSPca",
        "colab": {
          "base_uri": "https://localhost:8080/",
          "height": 685
        },
        "outputId": "f073a522-c114-453d-a7eb-404e893dffbb"
      },
      "source": [
        "plt.figure(figsize=(8, 6))\n",
        "for c in ['train_acc', 'valid_acc']:\n",
        "    plt.plot(\n",
        "        100 * history[c], label=c)\n",
        "plt.legend()\n",
        "plt.xlabel('Epoch')\n",
        "plt.ylabel('Average Accuracy')\n",
        "plt.title('Training and Validation Accuracy')\n",
        "plt.show()"
      ],
      "execution_count": 78,
      "outputs": [
        {
          "output_type": "execute_result",
          "data": {
            "text/plain": [
              "<Figure size 800x600 with 0 Axes>"
            ]
          },
          "metadata": {},
          "execution_count": 78
        },
        {
          "output_type": "execute_result",
          "data": {
            "text/plain": [
              "[<matplotlib.lines.Line2D at 0x790415399f10>]"
            ]
          },
          "metadata": {},
          "execution_count": 78
        },
        {
          "output_type": "execute_result",
          "data": {
            "text/plain": [
              "[<matplotlib.lines.Line2D at 0x79022c14e250>]"
            ]
          },
          "metadata": {},
          "execution_count": 78
        },
        {
          "output_type": "execute_result",
          "data": {
            "text/plain": [
              "<matplotlib.legend.Legend at 0x79022c1bad10>"
            ]
          },
          "metadata": {},
          "execution_count": 78
        },
        {
          "output_type": "execute_result",
          "data": {
            "text/plain": [
              "Text(0.5, 0, 'Epoch')"
            ]
          },
          "metadata": {},
          "execution_count": 78
        },
        {
          "output_type": "execute_result",
          "data": {
            "text/plain": [
              "Text(0, 0.5, 'Average Accuracy')"
            ]
          },
          "metadata": {},
          "execution_count": 78
        },
        {
          "output_type": "execute_result",
          "data": {
            "text/plain": [
              "Text(0.5, 1.0, 'Training and Validation Accuracy')"
            ]
          },
          "metadata": {},
          "execution_count": 78
        },
        {
          "output_type": "display_data",
          "data": {
            "text/plain": [
              "<Figure size 800x600 with 1 Axes>"
            ],
            "image/png": "[encoded data removed]"
          },
          "metadata": {}
        }
      ]
    },
    {
      "cell_type": "markdown",
      "metadata": {
        "id": "FQyFOOa_SUZB"
      },
      "source": [
        "### Train a Network With Cifar-10 Data\n",
        "Now we may use the cifar-10 dataset to train our model. First, we will load the cifar-10 dataset."
      ]
    },
    {
      "cell_type": "code",
      "metadata": {
        "colab": {
          "base_uri": "https://localhost:8080/"
        },
        "id": "fID7AMV0TZUO",
        "outputId": "62e88ec5-f4f7-43cb-8499-920c6c97b589"
      },
      "source": [
        "from data_utils import load_CIFAR10\n",
        "\n",
        "def get_CIFAR10_data(num_training=49000, num_validation=1000, num_test=1000):\n",
        "    \"\"\"\n",
        "    Load the CIFAR-10 dataset from disk and perform preprocessing to prepare\n",
        "    it for the two-layer neural net classifier.\n",
        "    \"\"\"\n",
        "    # Load the raw CIFAR-10 data\n",
        "    cifar10_dir = './datasets/'\n",
        "\n",
        "    X_train, y_train, X_test, y_test = load_CIFAR10(cifar10_dir)\n",
        "\n",
        "    # Subsample the data\n",
        "    mask = list(range(num_training, num_training + num_validation))\n",
        "    X_val = X_train[mask]\n",
        "    y_val = y_train[mask]\n",
        "    mask = list(range(num_training))\n",
        "    X_train = X_train[mask]\n",
        "    y_train = y_train[mask]\n",
        "    mask = list(range(num_test))\n",
        "    X_test = X_test[mask]\n",
        "    y_test = y_test[mask]\n",
        "\n",
        "    # Normalize the data: subtract the mean image\n",
        "    mean_image = np.mean(X_train, axis=0)\n",
        "    X_train -= mean_image\n",
        "    X_val -= mean_image\n",
        "    X_test -= mean_image\n",
        "\n",
        "    # Reshape data to rows\n",
        "    X_train = X_train.reshape(num_training, -1)\n",
        "    X_val = X_val.reshape(num_validation, -1)\n",
        "    X_test = X_test.reshape(num_test, -1)\n",
        "\n",
        "    return X_train, y_train, X_val, y_val, X_test, y_test\n",
        "\n",
        "\n",
        "# Cleaning up variables to prevent loading data multiple times (which may cause memory issue)\n",
        "try:\n",
        "   del X_train, y_train\n",
        "   del X_test, y_test\n",
        "   print('Clear previously loaded data.')\n",
        "except:\n",
        "   pass\n",
        "\n",
        "# Invoke the above function to get our data.\n",
        "train_X, train_Y, validation_X, validation_Y, test_X, test_Y = get_CIFAR10_data()\n",
        "print('Train data shape: ', train_X.shape)\n",
        "print('Train labels shape: ', train_Y.shape)\n",
        "print('Validation data shape: ', validation_X.shape)\n",
        "print('Validation labels shape: ', validation_Y.shape)\n",
        "print('Test data shape: ', test_X.shape)\n",
        "print('Test labels shape: ', test_Y.shape)"
      ],
      "execution_count": 79,
      "outputs": [
        {
          "output_type": "stream",
          "name": "stdout",
          "text": [
            "Train data shape:  (49000, 3072)\n",
            "Train labels shape:  (49000,)\n",
            "Validation data shape:  (1000, 3072)\n",
            "Validation labels shape:  (1000,)\n",
            "Test data shape:  (1000, 3072)\n",
            "Test labels shape:  (1000,)\n"
          ]
        }
      ]
    },
    {
      "cell_type": "markdown",
      "metadata": {
        "id": "9mJ6CTNDTbXq"
      },
      "source": [
        "Since Cifar-10 has a larger size of data, which is harder to train, we need to increase our network parameters to solve this task.\n"
      ]
    },
    {
      "cell_type": "code",
      "metadata": {
        "id": "qTmBf_03TD2J"
      },
      "source": [
        "input_size = 32 * 32 * 3\n",
        "hidden_size = 50\n",
        "num_classes = 10\n",
        "\n",
        "model = bmodel(input_size, hidden_size, num_classes)"
      ],
      "execution_count": 80,
      "outputs": []
    },
    {
      "cell_type": "markdown",
      "metadata": {
        "id": "kUvAVk2dULUx"
      },
      "source": [
        "Use the same chunk above to organize our new data. Now we may need a bigger batch_size for training."
      ]
    },
    {
      "cell_type": "code",
      "metadata": {
        "colab": {
          "base_uri": "https://localhost:8080/"
        },
        "id": "uz8yZR95UHq9",
        "outputId": "a6043837-2764-4f38-fc7d-ae5f8113277e"
      },
      "source": [
        "# Datasets from folders\n",
        "batch_size = 16\n",
        "# Transfer the data from numpy to tensor\n",
        "data = {\n",
        "    'train':\n",
        "    TensorDataset(torch.from_numpy(train_X), torch.from_numpy(train_Y).float()),\n",
        "    'valid':\n",
        "    ######################\n",
        "    ### YOUR CODE HERE ###\n",
        "    ######################\n",
        "    TensorDataset(torch.from_numpy(validation_X), torch.from_numpy(validation_Y).float())\n",
        "    #####################\n",
        "    ### YOUR CODE END ###\n",
        "    #####################\n",
        "\n",
        "}\n",
        "\n",
        "\n",
        "# Dataloader iterators, make sure to shuffle\n",
        "dataloaders = {\n",
        "    'train': DataLoader(data['train'], batch_size=batch_size, shuffle=True,num_workers=10),\n",
        "    'valid':\n",
        "    ######################\n",
        "    ### YOUR CODE HERE ###\n",
        "    ######################\n",
        "    DataLoader(data['valid'], batch_size=batch_size, shuffle=True,num_workers=10)\n",
        "    ######################\n",
        "    ### YOUR CODE END ###\n",
        "    ######################\n",
        "}\n",
        "\n",
        "\n",
        "# Iterate through the dataloader once\n",
        "trainiter = iter(dataloaders['train'])\n",
        "features, labels = next(trainiter)\n",
        "features.shape, labels.shape"
      ],
      "execution_count": 81,
      "outputs": [
        {
          "output_type": "execute_result",
          "data": {
            "text/plain": [
              "(torch.Size([16, 3072]), torch.Size([16]))"
            ]
          },
          "metadata": {},
          "execution_count": 81
        }
      ]
    },
    {
      "cell_type": "markdown",
      "metadata": {
        "id": "LVBJq6SCYAV5"
      },
      "source": [
        "Set up our criterion and optimizer for the new model."
      ]
    },
    {
      "cell_type": "code",
      "metadata": {
        "id": "pTpFzjGxX8cP"
      },
      "source": [
        "# Set up your criterion and optimizer\n",
        "######################\n",
        "### YOUR CODE HERE ###\n",
        "######################\n",
        "criterion = nn.CrossEntropyLoss()\n",
        "optimizer = optim.Adam(model.parameters(), lr=0.001)\n",
        "#####################\n",
        "### YOUR CODE END ###\n",
        "#####################"
      ],
      "execution_count": 82,
      "outputs": []
    },
    {
      "cell_type": "markdown",
      "metadata": {
        "id": "QfOM_4BkUiio"
      },
      "source": [
        "Train your new network and get the results. At this time, the training process may need more time."
      ]
    },
    {
      "cell_type": "code",
      "metadata": {
        "id": "feL2jumrUhRJ",
        "colab": {
          "base_uri": "https://localhost:8080/"
        },
        "outputId": "d2819e37-9f68-4f34-e4ae-055293ebc9a3"
      },
      "source": [
        "from timeit import default_timer as timer\n",
        "save_file_name = f'cifar_model_best_model.pt'\n",
        "train_on_gpu = cuda.is_available()\n",
        "\n",
        "model, history = train(model,\n",
        "    criterion,\n",
        "    optimizer,\n",
        "    dataloaders['train'],\n",
        "    dataloaders['valid'],\n",
        "    save_file_name=save_file_name,\n",
        "    max_epochs_stop=3,\n",
        "    n_epochs=500,\n",
        "    print_every=1)"
      ],
      "execution_count": 83,
      "outputs": [
        {
          "output_type": "stream",
          "name": "stdout",
          "text": [
            "Starting Training from Scratch.\n",
            "\n",
            "\n",
            "Epoch: 0 \tTraining Loss: 8.4524 \tValidation Loss: 2.0895\n",
            "\t\tTraining Accuracy: 27.80%\t Validation Accuracy: 30.30%\n",
            "\n",
            "Epoch: 1 \tTraining Loss: 3.0863 \tValidation Loss: 3.8228\n",
            "\t\tTraining Accuracy: 23.79%\t Validation Accuracy: 25.10%\n",
            "\n",
            "Epoch: 2 \tTraining Loss: 3.5602 \tValidation Loss: 3.3248\n",
            "\t\tTraining Accuracy: 22.47%\t Validation Accuracy: 25.50%\n",
            "\n",
            "Epoch: 3 \tTraining Loss: 3.7318 \tValidation Loss: 3.2028\n",
            "\t\tTraining Accuracy: 22.42%\t Validation Accuracy: 23.00%\n",
            "\n",
            "Early Stopping! Total epochs: 3. Best epoch: 0 with loss: 2.09 and acc: 23.00%\n",
            "39.94 total seconds elapsed. 9.98 seconds per epoch.\n"
          ]
        }
      ]
    },
    {
      "cell_type": "markdown",
      "metadata": {
        "id": "jeZ2CzV6YN-2"
      },
      "source": [
        "It seems that the process will end very early since there is no progress during the training. Let's print the results."
      ]
    },
    {
      "cell_type": "code",
      "metadata": {
        "id": "xlzAjeIDUohp",
        "colab": {
          "base_uri": "https://localhost:8080/",
          "height": 685
        },
        "outputId": "9edbc02c-918a-4cd0-c530-d42ff9c2813f"
      },
      "source": [
        "plt.figure(figsize=(8, 6))\n",
        "for c in ['train_loss', 'valid_loss']:\n",
        "    plt.plot(\n",
        "        history[c], label=c)\n",
        "plt.legend()\n",
        "plt.xlabel('Epoch')\n",
        "plt.ylabel('Average Negative Log Likelihood')\n",
        "plt.title('Training and Validation Losses')\n",
        "plt.show()"
      ],
      "execution_count": 84,
      "outputs": [
        {
          "output_type": "execute_result",
          "data": {
            "text/plain": [
              "<Figure size 800x600 with 0 Axes>"
            ]
          },
          "metadata": {},
          "execution_count": 84
        },
        {
          "output_type": "execute_result",
          "data": {
            "text/plain": [
              "[<matplotlib.lines.Line2D at 0x790234190390>]"
            ]
          },
          "metadata": {},
          "execution_count": 84
        },
        {
          "output_type": "execute_result",
          "data": {
            "text/plain": [
              "[<matplotlib.lines.Line2D at 0x790234423e90>]"
            ]
          },
          "metadata": {},
          "execution_count": 84
        },
        {
          "output_type": "execute_result",
          "data": {
            "text/plain": [
              "<matplotlib.legend.Legend at 0x7904154f8c10>"
            ]
          },
          "metadata": {},
          "execution_count": 84
        },
        {
          "output_type": "execute_result",
          "data": {
            "text/plain": [
              "Text(0.5, 0, 'Epoch')"
            ]
          },
          "metadata": {},
          "execution_count": 84
        },
        {
          "output_type": "execute_result",
          "data": {
            "text/plain": [
              "Text(0, 0.5, 'Average Negative Log Likelihood')"
            ]
          },
          "metadata": {},
          "execution_count": 84
        },
        {
          "output_type": "execute_result",
          "data": {
            "text/plain": [
              "Text(0.5, 1.0, 'Training and Validation Losses')"
            ]
          },
          "metadata": {},
          "execution_count": 84
        },
        {
          "output_type": "display_data",
          "data": {
            "text/plain": [
              "<Figure size 800x600 with 1 Axes>"
            ],
            "image/png": "[encoded data removed]"
          },
          "metadata": {}
        }
      ]
    },
    {
      "cell_type": "code",
      "metadata": {
        "id": "nwjRiBhWUsdy",
        "colab": {
          "base_uri": "https://localhost:8080/",
          "height": 685
        },
        "outputId": "f32fb122-9607-44d7-c347-68545f3e2c60"
      },
      "source": [
        "plt.figure(figsize=(8, 6))\n",
        "for c in ['train_acc', 'valid_acc']:\n",
        "    plt.plot(\n",
        "        100 * history[c], label=c)\n",
        "plt.legend()\n",
        "plt.xlabel('Epoch')\n",
        "plt.ylabel('Average Accuracy')\n",
        "plt.title('Training and Validation Accuracy')\n",
        "plt.show()"
      ],
      "execution_count": 85,
      "outputs": [
        {
          "output_type": "execute_result",
          "data": {
            "text/plain": [
              "<Figure size 800x600 with 0 Axes>"
            ]
          },
          "metadata": {},
          "execution_count": 85
        },
        {
          "output_type": "execute_result",
          "data": {
            "text/plain": [
              "[<matplotlib.lines.Line2D at 0x79022de0d850>]"
            ]
          },
          "metadata": {},
          "execution_count": 85
        },
        {
          "output_type": "execute_result",
          "data": {
            "text/plain": [
              "[<matplotlib.lines.Line2D at 0x79022de5e450>]"
            ]
          },
          "metadata": {},
          "execution_count": 85
        },
        {
          "output_type": "execute_result",
          "data": {
            "text/plain": [
              "<matplotlib.legend.Legend at 0x7904163ac310>"
            ]
          },
          "metadata": {},
          "execution_count": 85
        },
        {
          "output_type": "execute_result",
          "data": {
            "text/plain": [
              "Text(0.5, 0, 'Epoch')"
            ]
          },
          "metadata": {},
          "execution_count": 85
        },
        {
          "output_type": "execute_result",
          "data": {
            "text/plain": [
              "Text(0, 0.5, 'Average Accuracy')"
            ]
          },
          "metadata": {},
          "execution_count": 85
        },
        {
          "output_type": "execute_result",
          "data": {
            "text/plain": [
              "Text(0.5, 1.0, 'Training and Validation Accuracy')"
            ]
          },
          "metadata": {},
          "execution_count": 85
        },
        {
          "output_type": "display_data",
          "data": {
            "text/plain": [
              "<Figure size 800x600 with 1 Axes>"
            ],
            "image/png": "[encoded data removed]"
          },
          "metadata": {}
        }
      ]
    },
    {
      "cell_type": "markdown",
      "metadata": {
        "id": "fhsY7oawmNWu"
      },
      "source": [
        "##Task 4: Improve The Performance\n",
        "As we have known in HW2, a two-layer-network can not get a good performance. Here, we may (1) add more layers to make the network deeper, or (2) replace your bmodel() with networks provided by PyTorch. https://pytorch.org/vision/0.8/models.html\n",
        "You just need to do one of these two options.\n",
        "\n",
        "You can reuse the code you have from Task 2 and 3"
      ]
    },
    {
      "cell_type": "code",
      "metadata": {
        "id": "ZFcxylevmxrF",
        "colab": {
          "base_uri": "https://localhost:8080/"
        },
        "outputId": "e5cb5ce9-9619-4822-cae3-ce6a75e89acd"
      },
      "source": [
        "######################\n",
        "### YOUR CODE HERE ###\n",
        "######################\n",
        "def get_CIFAR10_data(num_training=49000, num_validation=1000, num_test=1000):\n",
        "    \"\"\"\n",
        "    Load the CIFAR-10 dataset and return it normalized and reshaped to [B, 3, 32, 32]\n",
        "    \"\"\"\n",
        "    cifar10_dir = './datasets/'\n",
        "    X_train, y_train, X_test, y_test = load_CIFAR10(cifar10_dir)\n",
        "\n",
        "    # Subsample the data\n",
        "    mask = list(range(num_training, num_training + num_validation))\n",
        "    X_val = X_train[mask]\n",
        "    y_val = y_train[mask]\n",
        "    mask = list(range(num_training))\n",
        "    X_train = X_train[mask]\n",
        "    y_train = y_train[mask]\n",
        "    mask = list(range(num_test))\n",
        "    X_test = X_test[mask]\n",
        "    y_test = y_test[mask]\n",
        "\n",
        "    # Normalize to [0, 1] — required for CNNs to converge\n",
        "    X_train = X_train.astype(np.float32) / 255.0\n",
        "    X_val = X_val.astype(np.float32) / 255.0\n",
        "    X_test = X_test.astype(np.float32) / 255.0\n",
        "\n",
        "    # Apply per-channel normalization to [-1, 1] to improve stability\n",
        "    # Without this change I was stuck at 7-10% accuracy with early stopping\n",
        "    mean = np.array([0.5, 0.5, 0.5])\n",
        "    std = np.array([0.5, 0.5, 0.5])\n",
        "    X_train = (X_train - mean) / std\n",
        "    X_val = (X_val - mean) / std\n",
        "    X_test = (X_test - mean) / std\n",
        "\n",
        "    # Reshape from NHWC → NCHW format (required by PyTorch conv layers)\n",
        "    # This is done to better integrate with the\n",
        "    X_train = X_train.transpose(0, 3, 1, 2)\n",
        "    X_val = X_val.transpose(0, 3, 1, 2)\n",
        "    X_test = X_test.transpose(0, 3, 1, 2)\n",
        "\n",
        "    return X_train, y_train, X_val, y_val, X_test, y_test\n",
        "\n",
        "\n",
        "class CIFAR10AlexNet(nn.Module):\n",
        "    \"\"\"\n",
        "    Rendition of Alexnet which scales it down to have it fit our sample\n",
        "    Using a 3x3 convolution instead of 11x11 and 5x5 convolutions\n",
        "    Layer sizes are scaled down to fit the 32x32 input\n",
        "    Fewer initial filters to reduce computation\n",
        "    MaxPool size reduced for small input\n",
        "    \"\"\"\n",
        "    def __init__(self, num_classes=10):\n",
        "        super(CIFAR10AlexNet, self).__init__()\n",
        "        self.features = nn.Sequential(\n",
        "            nn.Conv2d(3, 64, kernel_size=3, stride=1, padding=1),\n",
        "            nn.ReLU(inplace=True),\n",
        "            nn.MaxPool2d(kernel_size=2, stride=2),\n",
        "\n",
        "            nn.Conv2d(64, 192, kernel_size=3, padding=1),\n",
        "            nn.ReLU(inplace=True),\n",
        "            nn.MaxPool2d(kernel_size=2, stride=2),\n",
        "\n",
        "            nn.Conv2d(192, 384, kernel_size=3, padding=1),\n",
        "            nn.ReLU(inplace=True),\n",
        "\n",
        "            nn.Conv2d(384, 256, kernel_size=3, padding=1),\n",
        "            nn.ReLU(inplace=True),\n",
        "\n",
        "            nn.Conv2d(256, 256, kernel_size=3, padding=1),\n",
        "            nn.ReLU(inplace=True),\n",
        "            nn.MaxPool2d(kernel_size=2, stride=2),\n",
        "        )\n",
        "\n",
        "        self.classifier = nn.Sequential(\n",
        "            nn.Dropout(),\n",
        "            nn.Linear(256 * 4 * 4, 4096),\n",
        "            nn.ReLU(inplace=True),\n",
        "            nn.Dropout(),\n",
        "            nn.Linear(4096, 4096),\n",
        "            nn.ReLU(inplace=True),\n",
        "            nn.Linear(4096, num_classes),\n",
        "        )\n",
        "\n",
        "    def forward(self, x):\n",
        "        x = self.features(x)\n",
        "        x = torch.flatten(x, 1)\n",
        "        x = self.classifier(x)\n",
        "        return x\n",
        "\n",
        "batch_size = 16\n",
        "\n",
        "train_X, train_Y, validation_X, validation_Y, test_X, test_Y = get_CIFAR10_data()\n",
        "\n",
        "# Convert numpy arrays to PyTorch tensors (correct dtype)\n",
        "# we also change from float to long from the original implementation\n",
        "data = {\n",
        "    'train': TensorDataset(\n",
        "        torch.from_numpy(train_X),\n",
        "        torch.from_numpy(train_Y).long()\n",
        "    ),\n",
        "    'valid': TensorDataset(\n",
        "        torch.from_numpy(validation_X),\n",
        "        torch.from_numpy(validation_Y).long()\n",
        "    ),\n",
        "}\n",
        "\n",
        "# Build dataloaders\n",
        "dataloaders = {\n",
        "    'train': DataLoader(data['train'], batch_size=batch_size, shuffle=True, num_workers=10),\n",
        "    'valid': DataLoader(data['valid'], batch_size=batch_size, shuffle=False, num_workers=10),\n",
        "}\n",
        "\n",
        "model = CIFAR10AlexNet(num_classes=10).cuda()\n",
        "optimizer = optim.Adam(model.parameters(), lr=0.001)\n",
        "criterion = nn.CrossEntropyLoss()\n",
        "\n",
        "model, history = train(model,\n",
        "    criterion,\n",
        "    optimizer,\n",
        "    dataloaders['train'],\n",
        "    dataloaders['valid'],\n",
        "    save_file_name=save_file_name,\n",
        "    max_epochs_stop=3,\n",
        "    n_epochs=10,\n",
        "    print_every=1)\n",
        "#####################\n",
        "### YOUR CODE END ###\n",
        "#####################"
      ],
      "execution_count": 86,
      "outputs": [
        {
          "output_type": "stream",
          "name": "stdout",
          "text": [
            "Starting Training from Scratch.\n",
            "\n",
            "\n",
            "Epoch: 0 \tTraining Loss: 1.6670 \tValidation Loss: 1.3600\n",
            "\t\tTraining Accuracy: 36.64%\t Validation Accuracy: 48.60%\n",
            "\n",
            "Epoch: 1 \tTraining Loss: 1.3254 \tValidation Loss: 1.1468\n",
            "\t\tTraining Accuracy: 51.94%\t Validation Accuracy: 59.10%\n",
            "\n",
            "Epoch: 2 \tTraining Loss: 1.2015 \tValidation Loss: 1.0790\n",
            "\t\tTraining Accuracy: 57.14%\t Validation Accuracy: 60.90%\n",
            "\n",
            "Epoch: 3 \tTraining Loss: 1.1188 \tValidation Loss: 1.0731\n",
            "\t\tTraining Accuracy: 60.51%\t Validation Accuracy: 63.90%\n",
            "\n",
            "Epoch: 4 \tTraining Loss: 1.0679 \tValidation Loss: 1.0420\n",
            "\t\tTraining Accuracy: 62.50%\t Validation Accuracy: 63.60%\n",
            "\n",
            "Epoch: 5 \tTraining Loss: 1.0232 \tValidation Loss: 0.9314\n",
            "\t\tTraining Accuracy: 64.10%\t Validation Accuracy: 68.70%\n",
            "\n",
            "Epoch: 6 \tTraining Loss: 0.9872 \tValidation Loss: 0.8969\n",
            "\t\tTraining Accuracy: 65.81%\t Validation Accuracy: 71.30%\n",
            "\n",
            "Epoch: 7 \tTraining Loss: 0.9697 \tValidation Loss: 0.9234\n",
            "\t\tTraining Accuracy: 66.41%\t Validation Accuracy: 69.10%\n",
            "\n",
            "Epoch: 8 \tTraining Loss: 0.9469 \tValidation Loss: 0.8908\n",
            "\t\tTraining Accuracy: 67.37%\t Validation Accuracy: 70.80%\n",
            "\n",
            "Epoch: 9 \tTraining Loss: 0.9229 \tValidation Loss: 0.8657\n",
            "\t\tTraining Accuracy: 68.32%\t Validation Accuracy: 70.40%\n",
            "\n",
            "Best epoch: 9 with loss: 0.87 and acc: 70.40%\n",
            "231.59 total seconds elapsed. 23.16 seconds per epoch.\n"
          ]
        }
      ]
    },
    {
      "cell_type": "code",
      "source": [
        "plt.figure(figsize=(8, 6))\n",
        "for c in ['train_loss', 'valid_loss']:\n",
        "    plt.plot(\n",
        "        history[c], label=c)\n",
        "plt.legend()\n",
        "plt.xlabel('Epoch')\n",
        "plt.ylabel('Average Negative Log Likelihood')\n",
        "plt.title('Training and Validation Losses')\n",
        "plt.show()"
      ],
      "metadata": {
        "colab": {
          "base_uri": "https://localhost:8080/",
          "height": 685
        },
        "id": "VdtirBjMOg3u",
        "outputId": "6ff69ff8-06cc-42e2-a39a-ab5fcbb48592"
      },
      "execution_count": 87,
      "outputs": [
        {
          "output_type": "execute_result",
          "data": {
            "text/plain": [
              "<Figure size 800x600 with 0 Axes>"
            ]
          },
          "metadata": {},
          "execution_count": 87
        },
        {
          "output_type": "execute_result",
          "data": {
            "text/plain": [
              "[<matplotlib.lines.Line2D at 0x79022d3e5110>]"
            ]
          },
          "metadata": {},
          "execution_count": 87
        },
        {
          "output_type": "execute_result",
          "data": {
            "text/plain": [
              "[<matplotlib.lines.Line2D at 0x79022df91750>]"
            ]
          },
          "metadata": {},
          "execution_count": 87
        },
        {
          "output_type": "execute_result",
          "data": {
            "text/plain": [
              "<matplotlib.legend.Legend at 0x79022d426990>"
            ]
          },
          "metadata": {},
          "execution_count": 87
        },
        {
          "output_type": "execute_result",
          "data": {
            "text/plain": [
              "Text(0.5, 0, 'Epoch')"
            ]
          },
          "metadata": {},
          "execution_count": 87
        },
        {
          "output_type": "execute_result",
          "data": {
            "text/plain": [
              "Text(0, 0.5, 'Average Negative Log Likelihood')"
            ]
          },
          "metadata": {},
          "execution_count": 87
        },
        {
          "output_type": "execute_result",
          "data": {
            "text/plain": [
              "Text(0.5, 1.0, 'Training and Validation Losses')"
            ]
          },
          "metadata": {},
          "execution_count": 87
        },
        {
          "output_type": "display_data",
          "data": {
            "text/plain": [
              "<Figure size 800x600 with 1 Axes>"
            ],
            "image/png": "[encoded data removed]"
          },
          "metadata": {}
        }
      ]
    },
    {
      "cell_type": "code",
      "source": [
        "plt.figure(figsize=(8, 6))\n",
        "for c in ['train_acc', 'valid_acc']:\n",
        "    plt.plot(\n",
        "        100 * history[c], label=c)\n",
        "plt.legend()\n",
        "plt.xlabel('Epoch')\n",
        "plt.ylabel('Average Accuracy')\n",
        "plt.title('Training and Validation Accuracy')\n",
        "plt.show()"
      ],
      "metadata": {
        "colab": {
          "base_uri": "https://localhost:8080/",
          "height": 685
        },
        "id": "IML06mbEOlrg",
        "outputId": "e1d87dc4-6ce1-4309-ffc8-871faacac921"
      },
      "execution_count": 88,
      "outputs": [
        {
          "output_type": "execute_result",
          "data": {
            "text/plain": [
              "<Figure size 800x600 with 0 Axes>"
            ]
          },
          "metadata": {},
          "execution_count": 88
        },
        {
          "output_type": "execute_result",
          "data": {
            "text/plain": [
              "[<matplotlib.lines.Line2D at 0x79022df66c50>]"
            ]
          },
          "metadata": {},
          "execution_count": 88
        },
        {
          "output_type": "execute_result",
          "data": {
            "text/plain": [
              "[<matplotlib.lines.Line2D at 0x79022de39fd0>]"
            ]
          },
          "metadata": {},
          "execution_count": 88
        },
        {
          "output_type": "execute_result",
          "data": {
            "text/plain": [
              "<matplotlib.legend.Legend at 0x79022d4ac310>"
            ]
          },
          "metadata": {},
          "execution_count": 88
        },
        {
          "output_type": "execute_result",
          "data": {
            "text/plain": [
              "Text(0.5, 0, 'Epoch')"
            ]
          },
          "metadata": {},
          "execution_count": 88
        },
        {
          "output_type": "execute_result",
          "data": {
            "text/plain": [
              "Text(0, 0.5, 'Average Accuracy')"
            ]
          },
          "metadata": {},
          "execution_count": 88
        },
        {
          "output_type": "execute_result",
          "data": {
            "text/plain": [
              "Text(0.5, 1.0, 'Training and Validation Accuracy')"
            ]
          },
          "metadata": {},
          "execution_count": 88
        },
        {
          "output_type": "display_data",
          "data": {
            "text/plain": [
              "<Figure size 800x600 with 1 Axes>"
            ],
            "image/png": "[encoded data removed]"
          },
          "metadata": {}
        }
      ]
    },
    {
      "cell_type": "markdown",
      "source": [
        "## Model Modifications and Justifications\n",
        "\n",
        "As part of the CIFAR-10 classification task, it was required to implement, train, and improve a neural network model capable of learning from 32×32 color images. While building and testing the model, I encountered several issues that hindered training convergence or caused runtime errors. Below is a summary of the key modifications made, the problems they addressed, and how they improved the final model:\n",
        "\n",
        "- **Normalized pixel values from `[0, 255]` → `[0, 1]` → `[-1, 1]`**  \n",
        "  **Issue fixed:** Model was stuck at ~10% accuracy.  \n",
        "  **Justification:** Normalization improves numerical stability and gradient flow. This change resulted in the biggest performance boost for the model.\n",
        "\n",
        "- **Reshaped data from `[B, 32, 32, 3]` → `[B, 3, 32, 32]`**  \n",
        "  **Issue fixed:** `RuntimeError: Expected 4D input to conv2d, but got [B, 3072]`.  \n",
        "  **Justification:** PyTorch expects channel-first format for `Conv2d`.\n",
        "\n",
        "- **Converted label tensors from `.float()` to `.long()`**  \n",
        "  **Issue fixed:** `RuntimeError: Expected object of scalar type Long, but got Float`.  \n",
        "  **Justification:** `nn.CrossEntropyLoss` requires targets to be of type `LongTensor`.\n",
        "\n",
        "- **Redesigned the AlexNet architecture to be CIFAR-10 compatible**  \n",
        "  **Issue fixed:** Original AlexNet used large filters and stride incompatible with small 32×32 inputs.  \n",
        "  **Justification:** Replaced 11×11 and 5×5 filters with 3×3, reduced number of filters, and adapted pooling to match the smaller input size. ([source](https://pytorch.org/vision/stable/_modules/torchvision/models/alexnet.html))\n",
        "\n",
        "- **Used the `Adam` optimizer with `lr=0.001`**  \n",
        "  **Justification:** Adaptive optimization led to faster convergence and better performance on small datasets like CIFAR-10.\n",
        "\n",
        "- **Added model saving/loading and early stopping**  \n",
        "  **Justification:** Prevents overfitting, ensures best-performing weights are retained.\n",
        "\n",
        "These iterative fixes collectively resolved type mismatches, data formatting issues, and training bottlenecks. After tuning, the final model successfully converged, achieving 70% validation accuracy within 10 epochs. The redesigned architecture and normalized input pipeline proved essential in transforming a non-functional baseline into a stable and high-performing model. During early training runs, the model achieved 23% validation accuracy after just 3 epochs before being stopped early, with a validation loss of 2.09. Total training time for this run was 39.94 seconds, averaging 9.98 seconds per epoch."
      ],
      "metadata": {
        "id": "KD2auRdnSoMy"
      }
    }
  ]
}
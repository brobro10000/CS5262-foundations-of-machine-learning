{
  "nbformat": 4,
  "nbformat_minor": 0,
  "metadata": {
    "colab": {
      "provenance": [],
      "authorship_tag": "ABX9TyPYiH+ykwkSN1JqtOc8FWWT",
      "include_colab_link": true
    },
    "kernelspec": {
      "name": "python3",
      "display_name": "Python 3"
    },
    "language_info": {
      "name": "python"
    }
  },
  "cells": [
    {
      "cell_type": "markdown",
      "metadata": {
        "id": "view-in-github",
        "colab_type": "text"
      },
      "source": [
        "<a href=\"https://colab.research.google.com/github/brobro10000/CS5262-foundations-of-machine-learning/blob/main/CS5262_Project.ipynb\" target=\"_parent\"><img src=\"https://colab.research.google.com/assets/colab-badge.svg\" alt=\"Open In Colab\"/></a>"
      ]
    },
    {
      "cell_type": "markdown",
      "source": [
        "# What Drives Income? A Machine Learning Perspective\n",
        "\n",
        "## Background\n",
        "\n",
        "The amount an individual makes per year (income) can have an impact on several factors of an individuals well being and the ability to access resources deemed as necessary. Some documented examples of income correlation are found in [healthcare](https://www.ncbi.nlm.nih.gov/books/NBK578537/), [education](https://cepa.stanford.edu/content/widening-academic-achievement-gap-between-rich-and-poor-new-evidence-and-possible-explanations) and [housing](https://repository.gatech.edu/server/api/core/bitstreams/a131f386-4ca6-4be6-a252-0b5b8542f2cb/content). The ability to accurately predict the income level of an individual would potentionally create targeted interventions for those at risk, recognize opportunities for individual growth, and inform policies to address social and economic disparities.\n",
        "\n",
        "The Census Income is derived from the Census Beureau as \"income from several major household surveys and programs\" ([source](https://www.census.gov/topics/income-poverty/income.html)). One of the possible challenges to determine an individuals income is being able to accurately retrieve the data in the form of a census and expect all responses are accurate. Another challenge is retrieving a balanced sample of individuals when gathering income levels. This may lead to potentially having a large number of datapoints from a certain income range, and not enough from the the 'tail ends' of society: very low income and very high income.\n",
        "\n",
        "With this information in mind, I will be using the [*Adult Income Dataset*](https://archive.ics.uci.edu/dataset/2/adult) with machine learning to create a predictive model of whether an individual makes above \\$50,000 per year, or below \\$50,000 per year. This dataset was originally created in 1994 and donated in 1996 and was created by Barry Becker of Silicon Graphics, and [Ronny Kohavi](https://robotics.stanford.edu/~ronnyk/), a consultant and professor at Stanford Robotics Center.\n",
        "\n",
        "\n",
        "## Project Description\n",
        "\n",
        "The Adult Income Dataset I will be using derived from [University of California, Irvine, Machine Learning Repository](https://archive.ics.uci.edu/dataset/2/adult). Below is a table of an overview of the dataset characteristics.\n",
        "\n",
        "### Overview\n",
        "\n",
        "| **Dataset Characteristics** | Multivariate        |\n",
        "|-----------------------------|---------------------|\n",
        "| **Subject Area**            | Social Science      |\n",
        "| **Associated Tasks**        | Classification      |\n",
        "| **Feature Type**            | Categorical, Integer|\n",
        "| **# Instances**             | 48,842             |\n",
        "| **# Features**              | 14                 |\n",
        "\n",
        "\n",
        "### Variables\n",
        "\n",
        "| **Variable Name** | **Role**   | **Type**       | **Demographic**      | **Description**                                                                                                                                     | **Units** | **Missing Values** |\n",
        "|-------------------|------------|----------------|-----------------------|-----------------------------------------------------------------------------------------------------------------------------------------------------|-----------|---------------------|\n",
        "| age               | Feature    | Integer        | Age                  | N/A                                                                                                                                                 |           | no                 |\n",
        "| capital-gain      | Feature    | Integer        |                       |                                                                                                                                                     |           | no                 |\n",
        "| capital-loss      | Feature    | Integer        |                       |                                                                                                                                                     |           | no                 |\n",
        "| education         | Feature    | Categorical    | Education Level      | Bachelors, Some-college, 11th, HS-grad, Prof-school, Assoc-acdm, Assoc-voc, 9th, 7th-8th, 12th, Masters, 1st-4th, 10th, Doctorate, 5th-6th, Preschool. |           | no                 |\n",
        "| education-num     | Feature    | Integer        | Education Level      |                                                                                                                                                     |           | no                 |\n",
        "| fnlwgt            | Feature    | Integer        |                       |                                                                                                                                                     |           | no                 |\n",
        "| hours-per-week    | Feature    | Integer        |                       |                                                                                                                                                     |           | no                 |\n",
        "| income            | Target     | Binary         | Income               | >50K, <=50K.                                                                                                                                        |           | no                 |\n",
        "| marital-status    | Feature    | Categorical    | Other                | Married-civ-spouse, Divorced, Never-married, Separated, Widowed, Married-spouse-absent, Married-AF-spouse.                                          |           | no                 |\n",
        "| native-country    | Feature    | Categorical    | Other                | United-States, Cambodia, England, Puerto-Rico, Canada, Germany, Outlying-US(Guam-USVI-etc), India, Japan, Greece, South, China, Cuba, Iran, etc.   |           | yes                |\n",
        "| occupation        | Feature    | Categorical    | Other                | Tech-support, Craft-repair, Other-service, Sales, Exec-managerial, Prof-specialty, Handlers-cleaners, Machine-op-inspct, etc.                       |           | yes                |\n",
        "| race              | Feature    | Categorical    | Race                 | White, Asian-Pac-Islander, Amer-Indian-Eskimo, Other, Black.                                                                                       |           | no                 |\n",
        "| relationship      | Feature    | Categorical    | Other                | Wife, Own-child, Husband, Not-in-family, Other-relative, Unmarried.                                                                                |           | no                 |\n",
        "| sex               | Feature    | Binary         | Sex                  | Female, Male.                                                                                                                                       |           | no                 |\n",
        "| workclass         | Feature    | Categorical    | Income               | Private, Self-emp-not-inc, Self-emp-inc, Federal-gov, Local-gov, State-gov, Without-pay, Never-worked.                                              |           | yes                |\n",
        "\n",
        "\n",
        "### Additional Disclosure\n",
        "\n",
        "The criteria of the dataset was also parsed based on the following parameters\n",
        "\n",
        "- `((AAGE>16) && (AGI>100) && (AFNLWGT>1)&& (HRSWK>0))`\n",
        "\n",
        "- `(AAGE>16)` - Age is greater then 16\n",
        "\n",
        "- `(AGI>100)` - Adjusted growth income is more then '100' units (\n",
        "  (most likely dollars)\n",
        "\n",
        "- `(AFNLWGT > 1)` - This represents the final weight. A  description from [Kaggle](https://www.kaggle.com/datasets/uciml/adult-census-income/versions/2/data) is as follows:\n",
        "\n",
        "  > **Description of `fnlwgt` (final weight)**\n",
        "  >\n",
        "  > The weights on the Current Population Survey (CPS) files are controlled to independent estimates of the civilian noninstitutional population of the US. These are prepared monthly for us by Population Division here at the Census Bureau. We use 3 sets of controls. These are:\n",
        "  >\n",
        "  > - A single cell estimate of the population 16+ for each state.\n",
        "  > - Controls for Hispanic Origin by age and sex.\n",
        "  > - Controls by Race, age, and sex.\n",
        "  >\n",
        "  > We use all three sets of controls in our weighting program and \"rake\" through them 6 times so that by the end we come back to all the controls we used. The term estimate refers to population totals derived from CPS by creating \"weighted tallies\" of any specified socio-economic characteristics of the population. People with similar demographic characteristics should have similar weights.\n",
        "  >\n",
        "  > There is one important caveat to remember about this statement. That is that since the CPS sample is actually a collection of 51 state samples, each with its own probability of selection, the statement only applies within state.\n",
        "\n",
        "- `(HRSWK>0)` - Hours worked is greater then 0.\n",
        "\n",
        "\n",
        "\n",
        "### Problem Definition\n",
        "\n",
        "\n",
        "With this dataset, I plan to implement classification models that should accurately and precisely predict whether an individual's income is greater than $50,000. The datasource provides baseline model performance values for each metric, and the objective is to improve predictive value by at least 5% above the baseline for each metric.\n",
        "\n",
        "\n",
        "\n",
        "## Performance Metrics\n",
        "\n",
        "With this dataset, I plan to implement classification models that should accurately and precisely predict whether an individual's income is greater than $50,000. The datasource provides baseline model performance values for each metric, and the objective is to improve predictive value by at least 5% above the baseline for each metric."
      ],
      "metadata": {
        "id": "NC2hQIdMyYsk"
      }
    }
  ]
}
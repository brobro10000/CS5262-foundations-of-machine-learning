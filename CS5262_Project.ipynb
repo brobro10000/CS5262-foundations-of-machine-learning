{
  "nbformat": 4,
  "nbformat_minor": 0,
  "metadata": {
    "colab": {
      "provenance": [],
      "toc_visible": true,
      "authorship_tag": "ABX9TyNSShL9VZrUK9CPmxX9a5Zq",
      "include_colab_link": true
    },
    "kernelspec": {
      "name": "python3",
      "display_name": "Python 3"
    },
    "language_info": {
      "name": "python"
    }
  },
  "cells": [
    {
      "cell_type": "markdown",
      "metadata": {
        "id": "view-in-github",
        "colab_type": "text"
      },
      "source": [
        "<a href=\"https://colab.research.google.com/github/brobro10000/CS5265-foundations-of-machine-learning/blob/main/CS5262_Project.ipynb\" target=\"_parent\"><img src=\"https://colab.research.google.com/assets/colab-badge.svg\" alt=\"Open In Colab\"/></a>"
      ]
    },
    {
      "cell_type": "markdown",
      "source": [
        "# Insert Project Name\n",
        "\n",
        "## Background\n",
        "\n",
        "## Project Description\n",
        "\n",
        "## Performance Metrics"
      ],
      "metadata": {
        "id": "NC2hQIdMyYsk"
      }
    }
  ]
}